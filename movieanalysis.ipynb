{
  "nbformat": 4,
  "nbformat_minor": 0,
  "metadata": {
    "colab": {
      "name": "movieanalysis.ipynb",
      "version": "0.3.2",
      "provenance": [],
      "collapsed_sections": []
    },
    "kernelspec": {
      "display_name": "Python 3",
      "language": "python",
      "name": "python3"
    }
  },
  "cells": [
    {
      "metadata": {
        "id": "AWSjH0FINJ8V",
        "colab_type": "code",
        "colab": {}
      },
      "cell_type": "code",
      "source": [
        "import pandas as pd\n",
        "import numpy as np\n",
        "from sklearn.cluster import KMeans"
      ],
      "execution_count": 0,
      "outputs": []
    },
    {
      "metadata": {
        "id": "Qh1gJeTtNJ9V",
        "colab_type": "code",
        "outputId": "fc4b9e74-4205-4e79-a26a-216df8ba80db",
        "colab": {
          "base_uri": "https://localhost:8080/",
          "height": 124
        }
      },
      "cell_type": "code",
      "source": [
        "from google.colab import drive\n",
        "drive.mount('/content/gdrive')"
      ],
      "execution_count": 2,
      "outputs": [
        {
          "output_type": "stream",
          "text": [
            "Go to this URL in a browser: https://accounts.google.com/o/oauth2/auth?client_id=947318989803-6bn6qk8qdgf4n4g3pfee6491hc0brc4i.apps.googleusercontent.com&redirect_uri=urn%3Aietf%3Awg%3Aoauth%3A2.0%3Aoob&scope=email%20https%3A%2F%2Fwww.googleapis.com%2Fauth%2Fdocs.test%20https%3A%2F%2Fwww.googleapis.com%2Fauth%2Fdrive%20https%3A%2F%2Fwww.googleapis.com%2Fauth%2Fdrive.photos.readonly%20https%3A%2F%2Fwww.googleapis.com%2Fauth%2Fpeopleapi.readonly&response_type=code\n",
            "\n",
            "Enter your authorization code:\n",
            "··········\n",
            "Mounted at /content/gdrive\n"
          ],
          "name": "stdout"
        }
      ]
    },
    {
      "metadata": {
        "id": "dceyZGGAPBsJ",
        "colab_type": "code",
        "outputId": "7db6e3cc-db1c-4ffb-d9c2-0e3f1f666943",
        "colab": {
          "base_uri": "https://localhost:8080/",
          "height": 534
        }
      },
      "cell_type": "code",
      "source": [
        "metadata = pd.read_csv('/content/gdrive/My Drive/Colab Notebooks/movie_metadata.csv')\n",
        "metadata.head(10)"
      ],
      "execution_count": 3,
      "outputs": [
        {
          "output_type": "execute_result",
          "data": {
            "text/html": [
              "<div>\n",
              "<style scoped>\n",
              "    .dataframe tbody tr th:only-of-type {\n",
              "        vertical-align: middle;\n",
              "    }\n",
              "\n",
              "    .dataframe tbody tr th {\n",
              "        vertical-align: top;\n",
              "    }\n",
              "\n",
              "    .dataframe thead th {\n",
              "        text-align: right;\n",
              "    }\n",
              "</style>\n",
              "<table border=\"1\" class=\"dataframe\">\n",
              "  <thead>\n",
              "    <tr style=\"text-align: right;\">\n",
              "      <th></th>\n",
              "      <th>color</th>\n",
              "      <th>director_name</th>\n",
              "      <th>num_critic_for_reviews</th>\n",
              "      <th>duration</th>\n",
              "      <th>director_facebook_likes</th>\n",
              "      <th>actor_3_facebook_likes</th>\n",
              "      <th>actor_2_name</th>\n",
              "      <th>actor_1_facebook_likes</th>\n",
              "      <th>gross</th>\n",
              "      <th>genres</th>\n",
              "      <th>...</th>\n",
              "      <th>num_user_for_reviews</th>\n",
              "      <th>language</th>\n",
              "      <th>country</th>\n",
              "      <th>content_rating</th>\n",
              "      <th>budget</th>\n",
              "      <th>title_year</th>\n",
              "      <th>actor_2_facebook_likes</th>\n",
              "      <th>imdb_score</th>\n",
              "      <th>aspect_ratio</th>\n",
              "      <th>movie_facebook_likes</th>\n",
              "    </tr>\n",
              "  </thead>\n",
              "  <tbody>\n",
              "    <tr>\n",
              "      <th>0</th>\n",
              "      <td>Color</td>\n",
              "      <td>James Cameron</td>\n",
              "      <td>723.0</td>\n",
              "      <td>178.0</td>\n",
              "      <td>0.0</td>\n",
              "      <td>855.0</td>\n",
              "      <td>Joel David Moore</td>\n",
              "      <td>1000.0</td>\n",
              "      <td>760505847.0</td>\n",
              "      <td>Action|Adventure|Fantasy|Sci-Fi</td>\n",
              "      <td>...</td>\n",
              "      <td>3054.0</td>\n",
              "      <td>English</td>\n",
              "      <td>USA</td>\n",
              "      <td>PG-13</td>\n",
              "      <td>237000000.0</td>\n",
              "      <td>2009.0</td>\n",
              "      <td>936.0</td>\n",
              "      <td>7.9</td>\n",
              "      <td>1.78</td>\n",
              "      <td>33000</td>\n",
              "    </tr>\n",
              "    <tr>\n",
              "      <th>1</th>\n",
              "      <td>Color</td>\n",
              "      <td>Gore Verbinski</td>\n",
              "      <td>302.0</td>\n",
              "      <td>169.0</td>\n",
              "      <td>563.0</td>\n",
              "      <td>1000.0</td>\n",
              "      <td>Orlando Bloom</td>\n",
              "      <td>40000.0</td>\n",
              "      <td>309404152.0</td>\n",
              "      <td>Action|Adventure|Fantasy</td>\n",
              "      <td>...</td>\n",
              "      <td>1238.0</td>\n",
              "      <td>English</td>\n",
              "      <td>USA</td>\n",
              "      <td>PG-13</td>\n",
              "      <td>300000000.0</td>\n",
              "      <td>2007.0</td>\n",
              "      <td>5000.0</td>\n",
              "      <td>7.1</td>\n",
              "      <td>2.35</td>\n",
              "      <td>0</td>\n",
              "    </tr>\n",
              "    <tr>\n",
              "      <th>2</th>\n",
              "      <td>Color</td>\n",
              "      <td>Sam Mendes</td>\n",
              "      <td>602.0</td>\n",
              "      <td>148.0</td>\n",
              "      <td>0.0</td>\n",
              "      <td>161.0</td>\n",
              "      <td>Rory Kinnear</td>\n",
              "      <td>11000.0</td>\n",
              "      <td>200074175.0</td>\n",
              "      <td>Action|Adventure|Thriller</td>\n",
              "      <td>...</td>\n",
              "      <td>994.0</td>\n",
              "      <td>English</td>\n",
              "      <td>UK</td>\n",
              "      <td>PG-13</td>\n",
              "      <td>245000000.0</td>\n",
              "      <td>2015.0</td>\n",
              "      <td>393.0</td>\n",
              "      <td>6.8</td>\n",
              "      <td>2.35</td>\n",
              "      <td>85000</td>\n",
              "    </tr>\n",
              "    <tr>\n",
              "      <th>3</th>\n",
              "      <td>Color</td>\n",
              "      <td>Christopher Nolan</td>\n",
              "      <td>813.0</td>\n",
              "      <td>164.0</td>\n",
              "      <td>22000.0</td>\n",
              "      <td>23000.0</td>\n",
              "      <td>Christian Bale</td>\n",
              "      <td>27000.0</td>\n",
              "      <td>448130642.0</td>\n",
              "      <td>Action|Thriller</td>\n",
              "      <td>...</td>\n",
              "      <td>2701.0</td>\n",
              "      <td>English</td>\n",
              "      <td>USA</td>\n",
              "      <td>PG-13</td>\n",
              "      <td>250000000.0</td>\n",
              "      <td>2012.0</td>\n",
              "      <td>23000.0</td>\n",
              "      <td>8.5</td>\n",
              "      <td>2.35</td>\n",
              "      <td>164000</td>\n",
              "    </tr>\n",
              "    <tr>\n",
              "      <th>4</th>\n",
              "      <td>NaN</td>\n",
              "      <td>Doug Walker</td>\n",
              "      <td>NaN</td>\n",
              "      <td>NaN</td>\n",
              "      <td>131.0</td>\n",
              "      <td>NaN</td>\n",
              "      <td>Rob Walker</td>\n",
              "      <td>131.0</td>\n",
              "      <td>NaN</td>\n",
              "      <td>Documentary</td>\n",
              "      <td>...</td>\n",
              "      <td>NaN</td>\n",
              "      <td>NaN</td>\n",
              "      <td>NaN</td>\n",
              "      <td>NaN</td>\n",
              "      <td>NaN</td>\n",
              "      <td>NaN</td>\n",
              "      <td>12.0</td>\n",
              "      <td>7.1</td>\n",
              "      <td>NaN</td>\n",
              "      <td>0</td>\n",
              "    </tr>\n",
              "    <tr>\n",
              "      <th>5</th>\n",
              "      <td>Color</td>\n",
              "      <td>Andrew Stanton</td>\n",
              "      <td>462.0</td>\n",
              "      <td>132.0</td>\n",
              "      <td>475.0</td>\n",
              "      <td>530.0</td>\n",
              "      <td>Samantha Morton</td>\n",
              "      <td>640.0</td>\n",
              "      <td>73058679.0</td>\n",
              "      <td>Action|Adventure|Sci-Fi</td>\n",
              "      <td>...</td>\n",
              "      <td>738.0</td>\n",
              "      <td>English</td>\n",
              "      <td>USA</td>\n",
              "      <td>PG-13</td>\n",
              "      <td>263700000.0</td>\n",
              "      <td>2012.0</td>\n",
              "      <td>632.0</td>\n",
              "      <td>6.6</td>\n",
              "      <td>2.35</td>\n",
              "      <td>24000</td>\n",
              "    </tr>\n",
              "    <tr>\n",
              "      <th>6</th>\n",
              "      <td>Color</td>\n",
              "      <td>Sam Raimi</td>\n",
              "      <td>392.0</td>\n",
              "      <td>156.0</td>\n",
              "      <td>0.0</td>\n",
              "      <td>4000.0</td>\n",
              "      <td>James Franco</td>\n",
              "      <td>24000.0</td>\n",
              "      <td>336530303.0</td>\n",
              "      <td>Action|Adventure|Romance</td>\n",
              "      <td>...</td>\n",
              "      <td>1902.0</td>\n",
              "      <td>English</td>\n",
              "      <td>USA</td>\n",
              "      <td>PG-13</td>\n",
              "      <td>258000000.0</td>\n",
              "      <td>2007.0</td>\n",
              "      <td>11000.0</td>\n",
              "      <td>6.2</td>\n",
              "      <td>2.35</td>\n",
              "      <td>0</td>\n",
              "    </tr>\n",
              "    <tr>\n",
              "      <th>7</th>\n",
              "      <td>Color</td>\n",
              "      <td>Nathan Greno</td>\n",
              "      <td>324.0</td>\n",
              "      <td>100.0</td>\n",
              "      <td>15.0</td>\n",
              "      <td>284.0</td>\n",
              "      <td>Donna Murphy</td>\n",
              "      <td>799.0</td>\n",
              "      <td>200807262.0</td>\n",
              "      <td>Adventure|Animation|Comedy|Family|Fantasy|Musi...</td>\n",
              "      <td>...</td>\n",
              "      <td>387.0</td>\n",
              "      <td>English</td>\n",
              "      <td>USA</td>\n",
              "      <td>PG</td>\n",
              "      <td>260000000.0</td>\n",
              "      <td>2010.0</td>\n",
              "      <td>553.0</td>\n",
              "      <td>7.8</td>\n",
              "      <td>1.85</td>\n",
              "      <td>29000</td>\n",
              "    </tr>\n",
              "    <tr>\n",
              "      <th>8</th>\n",
              "      <td>Color</td>\n",
              "      <td>Joss Whedon</td>\n",
              "      <td>635.0</td>\n",
              "      <td>141.0</td>\n",
              "      <td>0.0</td>\n",
              "      <td>19000.0</td>\n",
              "      <td>Robert Downey Jr.</td>\n",
              "      <td>26000.0</td>\n",
              "      <td>458991599.0</td>\n",
              "      <td>Action|Adventure|Sci-Fi</td>\n",
              "      <td>...</td>\n",
              "      <td>1117.0</td>\n",
              "      <td>English</td>\n",
              "      <td>USA</td>\n",
              "      <td>PG-13</td>\n",
              "      <td>250000000.0</td>\n",
              "      <td>2015.0</td>\n",
              "      <td>21000.0</td>\n",
              "      <td>7.5</td>\n",
              "      <td>2.35</td>\n",
              "      <td>118000</td>\n",
              "    </tr>\n",
              "    <tr>\n",
              "      <th>9</th>\n",
              "      <td>Color</td>\n",
              "      <td>David Yates</td>\n",
              "      <td>375.0</td>\n",
              "      <td>153.0</td>\n",
              "      <td>282.0</td>\n",
              "      <td>10000.0</td>\n",
              "      <td>Daniel Radcliffe</td>\n",
              "      <td>25000.0</td>\n",
              "      <td>301956980.0</td>\n",
              "      <td>Adventure|Family|Fantasy|Mystery</td>\n",
              "      <td>...</td>\n",
              "      <td>973.0</td>\n",
              "      <td>English</td>\n",
              "      <td>UK</td>\n",
              "      <td>PG</td>\n",
              "      <td>250000000.0</td>\n",
              "      <td>2009.0</td>\n",
              "      <td>11000.0</td>\n",
              "      <td>7.5</td>\n",
              "      <td>2.35</td>\n",
              "      <td>10000</td>\n",
              "    </tr>\n",
              "  </tbody>\n",
              "</table>\n",
              "<p>10 rows × 28 columns</p>\n",
              "</div>"
            ],
            "text/plain": [
              "   color      director_name  num_critic_for_reviews  duration  \\\n",
              "0  Color      James Cameron                   723.0     178.0   \n",
              "1  Color     Gore Verbinski                   302.0     169.0   \n",
              "2  Color         Sam Mendes                   602.0     148.0   \n",
              "3  Color  Christopher Nolan                   813.0     164.0   \n",
              "4    NaN        Doug Walker                     NaN       NaN   \n",
              "5  Color     Andrew Stanton                   462.0     132.0   \n",
              "6  Color          Sam Raimi                   392.0     156.0   \n",
              "7  Color       Nathan Greno                   324.0     100.0   \n",
              "8  Color        Joss Whedon                   635.0     141.0   \n",
              "9  Color        David Yates                   375.0     153.0   \n",
              "\n",
              "   director_facebook_likes  actor_3_facebook_likes       actor_2_name  \\\n",
              "0                      0.0                   855.0   Joel David Moore   \n",
              "1                    563.0                  1000.0      Orlando Bloom   \n",
              "2                      0.0                   161.0       Rory Kinnear   \n",
              "3                  22000.0                 23000.0     Christian Bale   \n",
              "4                    131.0                     NaN         Rob Walker   \n",
              "5                    475.0                   530.0    Samantha Morton   \n",
              "6                      0.0                  4000.0       James Franco   \n",
              "7                     15.0                   284.0       Donna Murphy   \n",
              "8                      0.0                 19000.0  Robert Downey Jr.   \n",
              "9                    282.0                 10000.0   Daniel Radcliffe   \n",
              "\n",
              "   actor_1_facebook_likes        gross  \\\n",
              "0                  1000.0  760505847.0   \n",
              "1                 40000.0  309404152.0   \n",
              "2                 11000.0  200074175.0   \n",
              "3                 27000.0  448130642.0   \n",
              "4                   131.0          NaN   \n",
              "5                   640.0   73058679.0   \n",
              "6                 24000.0  336530303.0   \n",
              "7                   799.0  200807262.0   \n",
              "8                 26000.0  458991599.0   \n",
              "9                 25000.0  301956980.0   \n",
              "\n",
              "                                              genres         ...           \\\n",
              "0                    Action|Adventure|Fantasy|Sci-Fi         ...            \n",
              "1                           Action|Adventure|Fantasy         ...            \n",
              "2                          Action|Adventure|Thriller         ...            \n",
              "3                                    Action|Thriller         ...            \n",
              "4                                        Documentary         ...            \n",
              "5                            Action|Adventure|Sci-Fi         ...            \n",
              "6                           Action|Adventure|Romance         ...            \n",
              "7  Adventure|Animation|Comedy|Family|Fantasy|Musi...         ...            \n",
              "8                            Action|Adventure|Sci-Fi         ...            \n",
              "9                   Adventure|Family|Fantasy|Mystery         ...            \n",
              "\n",
              "  num_user_for_reviews language  country  content_rating       budget  \\\n",
              "0               3054.0  English      USA           PG-13  237000000.0   \n",
              "1               1238.0  English      USA           PG-13  300000000.0   \n",
              "2                994.0  English       UK           PG-13  245000000.0   \n",
              "3               2701.0  English      USA           PG-13  250000000.0   \n",
              "4                  NaN      NaN      NaN             NaN          NaN   \n",
              "5                738.0  English      USA           PG-13  263700000.0   \n",
              "6               1902.0  English      USA           PG-13  258000000.0   \n",
              "7                387.0  English      USA              PG  260000000.0   \n",
              "8               1117.0  English      USA           PG-13  250000000.0   \n",
              "9                973.0  English       UK              PG  250000000.0   \n",
              "\n",
              "   title_year actor_2_facebook_likes imdb_score  aspect_ratio  \\\n",
              "0      2009.0                  936.0        7.9          1.78   \n",
              "1      2007.0                 5000.0        7.1          2.35   \n",
              "2      2015.0                  393.0        6.8          2.35   \n",
              "3      2012.0                23000.0        8.5          2.35   \n",
              "4         NaN                   12.0        7.1           NaN   \n",
              "5      2012.0                  632.0        6.6          2.35   \n",
              "6      2007.0                11000.0        6.2          2.35   \n",
              "7      2010.0                  553.0        7.8          1.85   \n",
              "8      2015.0                21000.0        7.5          2.35   \n",
              "9      2009.0                11000.0        7.5          2.35   \n",
              "\n",
              "  movie_facebook_likes  \n",
              "0                33000  \n",
              "1                    0  \n",
              "2                85000  \n",
              "3               164000  \n",
              "4                    0  \n",
              "5                24000  \n",
              "6                    0  \n",
              "7                29000  \n",
              "8               118000  \n",
              "9                10000  \n",
              "\n",
              "[10 rows x 28 columns]"
            ]
          },
          "metadata": {
            "tags": []
          },
          "execution_count": 3
        }
      ]
    },
    {
      "metadata": {
        "id": "evgEYeM4NJ9k",
        "colab_type": "code",
        "outputId": "74b0d1b0-3470-4624-a8c2-71d174af20ed",
        "colab": {
          "base_uri": "https://localhost:8080/",
          "height": 34
        }
      },
      "cell_type": "code",
      "source": [
        "metadata.shape"
      ],
      "execution_count": 4,
      "outputs": [
        {
          "output_type": "execute_result",
          "data": {
            "text/plain": [
              "(5043, 28)"
            ]
          },
          "metadata": {
            "tags": []
          },
          "execution_count": 4
        }
      ]
    },
    {
      "metadata": {
        "id": "jv9BOsurNJ9z",
        "colab_type": "code",
        "outputId": "a9500fd5-a6cd-4287-bd80-8579553fc9d6",
        "colab": {
          "base_uri": "https://localhost:8080/",
          "height": 173
        }
      },
      "cell_type": "code",
      "source": [
        "metadata.columns"
      ],
      "execution_count": 5,
      "outputs": [
        {
          "output_type": "execute_result",
          "data": {
            "text/plain": [
              "Index(['color', 'director_name', 'num_critic_for_reviews', 'duration',\n",
              "       'director_facebook_likes', 'actor_3_facebook_likes', 'actor_2_name',\n",
              "       'actor_1_facebook_likes', 'gross', 'genres', 'actor_1_name',\n",
              "       'movie_title', 'num_voted_users', 'cast_total_facebook_likes',\n",
              "       'actor_3_name', 'facenumber_in_poster', 'plot_keywords',\n",
              "       'movie_imdb_link', 'num_user_for_reviews', 'language', 'country',\n",
              "       'content_rating', 'budget', 'title_year', 'actor_2_facebook_likes',\n",
              "       'imdb_score', 'aspect_ratio', 'movie_facebook_likes'],\n",
              "      dtype='object')"
            ]
          },
          "metadata": {
            "tags": []
          },
          "execution_count": 5
        }
      ]
    },
    {
      "metadata": {
        "id": "-Rt__vxRNJ9_",
        "colab_type": "code",
        "outputId": "106b6e7b-0358-4a5f-c5e3-3033b804c36c",
        "colab": {
          "base_uri": "https://localhost:8080/",
          "height": 34
        }
      },
      "cell_type": "code",
      "source": [
        "metadata = metadata[~metadata['genres'].str.contains(\"Documentary\")]\n",
        "metadata.shape"
      ],
      "execution_count": 6,
      "outputs": [
        {
          "output_type": "execute_result",
          "data": {
            "text/plain": [
              "(4922, 28)"
            ]
          },
          "metadata": {
            "tags": []
          },
          "execution_count": 6
        }
      ]
    },
    {
      "metadata": {
        "id": "cCgfKTB8NJ-L",
        "colab_type": "code",
        "outputId": "11a7deef-98e7-48d4-f9a3-610d6949e93b",
        "colab": {
          "base_uri": "https://localhost:8080/",
          "height": 34
        }
      },
      "cell_type": "code",
      "source": [
        "columns = ['num_critic_for_reviews', 'num_user_for_reviews', 'num_voted_users', 'color', 'content_rating', 'director_facebook_likes', 'actor_3_facebook_likes', 'actor_1_facebook_likes', 'cast_total_facebook_likes', 'facenumber_in_poster', 'actor_2_facebook_likes', 'movie_facebook_likes', 'aspect_ratio']\n",
        "metadata = metadata.drop(columns, 1)\n",
        "metadata.shape"
      ],
      "execution_count": 7,
      "outputs": [
        {
          "output_type": "execute_result",
          "data": {
            "text/plain": [
              "(4922, 15)"
            ]
          },
          "metadata": {
            "tags": []
          },
          "execution_count": 7
        }
      ]
    },
    {
      "metadata": {
        "id": "xCbv_qTuNJ-W",
        "colab_type": "code",
        "outputId": "824fe287-2ca0-4526-8ba1-e7f8fd1238ca",
        "colab": {
          "base_uri": "https://localhost:8080/",
          "height": 104
        }
      },
      "cell_type": "code",
      "source": [
        "metadata.columns"
      ],
      "execution_count": 8,
      "outputs": [
        {
          "output_type": "execute_result",
          "data": {
            "text/plain": [
              "Index(['director_name', 'duration', 'actor_2_name', 'gross', 'genres',\n",
              "       'actor_1_name', 'movie_title', 'actor_3_name', 'plot_keywords',\n",
              "       'movie_imdb_link', 'language', 'country', 'budget', 'title_year',\n",
              "       'imdb_score'],\n",
              "      dtype='object')"
            ]
          },
          "metadata": {
            "tags": []
          },
          "execution_count": 8
        }
      ]
    },
    {
      "metadata": {
        "id": "3qaxr70bNJ-n",
        "colab_type": "code",
        "outputId": "97a3a9a2-650c-464a-815d-6b6898fe9d41",
        "colab": {
          "base_uri": "https://localhost:8080/",
          "height": 208
        }
      },
      "cell_type": "code",
      "source": [
        "metadata['title_year'].unique()"
      ],
      "execution_count": 9,
      "outputs": [
        {
          "output_type": "execute_result",
          "data": {
            "text/plain": [
              "array([2009., 2007., 2015., 2012., 2010., 2016., 2006., 2008., 2013.,\n",
              "       2011., 2014., 2005., 1997., 2004., 1999., 1995., 2003., 2001.,\n",
              "       2002., 1998.,   nan, 2000., 1990., 1991., 1994., 1996., 1982.,\n",
              "       1993., 1979., 1992., 1989., 1984., 1988., 1978., 1962., 1980.,\n",
              "       1972., 1981., 1968., 1985., 1940., 1963., 1987., 1986., 1973.,\n",
              "       1983., 1976., 1977., 1970., 1971., 1969., 1960., 1965., 1964.,\n",
              "       1927., 1974., 1937., 1975., 1967., 1951., 1961., 1946., 1953.,\n",
              "       1954., 1959., 1932., 1947., 1956., 1945., 1952., 1930., 1966.,\n",
              "       1939., 1950., 1948., 1958., 1957., 1943., 1944., 1938., 1949.,\n",
              "       1936., 1941., 1955., 1942., 1929., 1935., 1933., 1916., 1934.,\n",
              "       1925., 1920.])"
            ]
          },
          "metadata": {
            "tags": []
          },
          "execution_count": 9
        }
      ]
    },
    {
      "metadata": {
        "id": "OOAqSjoJNJ-3",
        "colab_type": "code",
        "outputId": "c54b19b7-badd-4daf-c143-379a9e32a812",
        "colab": {
          "base_uri": "https://localhost:8080/",
          "height": 34
        }
      },
      "cell_type": "code",
      "source": [
        "metadata = metadata.drop(metadata[metadata['title_year'].astype(str)=='nan'].index)\n",
        "metadata.shape"
      ],
      "execution_count": 10,
      "outputs": [
        {
          "output_type": "execute_result",
          "data": {
            "text/plain": [
              "(4816, 15)"
            ]
          },
          "metadata": {
            "tags": []
          },
          "execution_count": 10
        }
      ]
    },
    {
      "metadata": {
        "id": "mZmlVb11NJ_R",
        "colab_type": "code",
        "colab": {}
      },
      "cell_type": "code",
      "source": [
        "metadata = metadata[metadata['title_year'].astype(int) >= 1968]"
      ],
      "execution_count": 0,
      "outputs": []
    },
    {
      "metadata": {
        "id": "Fg0UIIyPNJ_g",
        "colab_type": "code",
        "outputId": "16eebfad-3082-47dd-9e6e-467876c5f490",
        "colab": {
          "base_uri": "https://localhost:8080/",
          "height": 34
        }
      },
      "cell_type": "code",
      "source": [
        "metadata.shape"
      ],
      "execution_count": 12,
      "outputs": [
        {
          "output_type": "execute_result",
          "data": {
            "text/plain": [
              "(4690, 15)"
            ]
          },
          "metadata": {
            "tags": []
          },
          "execution_count": 12
        }
      ]
    },
    {
      "metadata": {
        "id": "vRsmNbq0NJ_v",
        "colab_type": "code",
        "outputId": "c800632b-343a-42bb-e4ef-11339bf9f0a0",
        "colab": {
          "base_uri": "https://localhost:8080/",
          "height": 34
        }
      },
      "cell_type": "code",
      "source": [
        "highscore = metadata[metadata['imdb_score'].astype(float) >= 6.5]\n",
        "highscore.shape\n",
        "boxofficehit = highscore[highscore['gross'].astype(float) > 30000000.0]\n",
        "boxofficehit.shape\n",
        "successful = boxofficehit[boxofficehit['gross'].astype(float) > boxofficehit['budget'].astype(float)]\n",
        "successful.shape"
      ],
      "execution_count": 13,
      "outputs": [
        {
          "output_type": "execute_result",
          "data": {
            "text/plain": [
              "(895, 15)"
            ]
          },
          "metadata": {
            "tags": []
          },
          "execution_count": 13
        }
      ]
    },
    {
      "metadata": {
        "id": "GSmU53FINJ_5",
        "colab_type": "code",
        "outputId": "d8ab30ab-4589-404e-8525-dd8b64cf328c",
        "colab": {
          "base_uri": "https://localhost:8080/",
          "height": 34
        }
      },
      "cell_type": "code",
      "source": [
        "lowscore = metadata[metadata['imdb_score'].astype(float) < 6.5]\n",
        "lowscore.shape\n",
        "unsuccessful = lowscore[lowscore['gross'].astype(float) <= lowscore['budget'].astype(float)]\n",
        "unsuccessful.shape"
      ],
      "execution_count": 14,
      "outputs": [
        {
          "output_type": "execute_result",
          "data": {
            "text/plain": [
              "(980, 15)"
            ]
          },
          "metadata": {
            "tags": []
          },
          "execution_count": 14
        }
      ]
    },
    {
      "metadata": {
        "id": "y1h54G6CNKAE",
        "colab_type": "code",
        "outputId": "321f187c-5dc2-4cb3-ab27-dc33b3a81d91",
        "colab": {
          "base_uri": "https://localhost:8080/",
          "height": 452
        }
      },
      "cell_type": "code",
      "source": [
        "successful.head()"
      ],
      "execution_count": 15,
      "outputs": [
        {
          "output_type": "execute_result",
          "data": {
            "text/html": [
              "<div>\n",
              "<style scoped>\n",
              "    .dataframe tbody tr th:only-of-type {\n",
              "        vertical-align: middle;\n",
              "    }\n",
              "\n",
              "    .dataframe tbody tr th {\n",
              "        vertical-align: top;\n",
              "    }\n",
              "\n",
              "    .dataframe thead th {\n",
              "        text-align: right;\n",
              "    }\n",
              "</style>\n",
              "<table border=\"1\" class=\"dataframe\">\n",
              "  <thead>\n",
              "    <tr style=\"text-align: right;\">\n",
              "      <th></th>\n",
              "      <th>director_name</th>\n",
              "      <th>duration</th>\n",
              "      <th>actor_2_name</th>\n",
              "      <th>gross</th>\n",
              "      <th>genres</th>\n",
              "      <th>actor_1_name</th>\n",
              "      <th>movie_title</th>\n",
              "      <th>actor_3_name</th>\n",
              "      <th>plot_keywords</th>\n",
              "      <th>movie_imdb_link</th>\n",
              "      <th>language</th>\n",
              "      <th>country</th>\n",
              "      <th>budget</th>\n",
              "      <th>title_year</th>\n",
              "      <th>imdb_score</th>\n",
              "    </tr>\n",
              "  </thead>\n",
              "  <tbody>\n",
              "    <tr>\n",
              "      <th>0</th>\n",
              "      <td>James Cameron</td>\n",
              "      <td>178.0</td>\n",
              "      <td>Joel David Moore</td>\n",
              "      <td>760505847.0</td>\n",
              "      <td>Action|Adventure|Fantasy|Sci-Fi</td>\n",
              "      <td>CCH Pounder</td>\n",
              "      <td>Avatar</td>\n",
              "      <td>Wes Studi</td>\n",
              "      <td>avatar|future|marine|native|paraplegic</td>\n",
              "      <td>http://www.imdb.com/title/tt0499549/?ref_=fn_t...</td>\n",
              "      <td>English</td>\n",
              "      <td>USA</td>\n",
              "      <td>237000000.0</td>\n",
              "      <td>2009.0</td>\n",
              "      <td>7.9</td>\n",
              "    </tr>\n",
              "    <tr>\n",
              "      <th>1</th>\n",
              "      <td>Gore Verbinski</td>\n",
              "      <td>169.0</td>\n",
              "      <td>Orlando Bloom</td>\n",
              "      <td>309404152.0</td>\n",
              "      <td>Action|Adventure|Fantasy</td>\n",
              "      <td>Johnny Depp</td>\n",
              "      <td>Pirates of the Caribbean: At World's End</td>\n",
              "      <td>Jack Davenport</td>\n",
              "      <td>goddess|marriage ceremony|marriage proposal|pi...</td>\n",
              "      <td>http://www.imdb.com/title/tt0449088/?ref_=fn_t...</td>\n",
              "      <td>English</td>\n",
              "      <td>USA</td>\n",
              "      <td>300000000.0</td>\n",
              "      <td>2007.0</td>\n",
              "      <td>7.1</td>\n",
              "    </tr>\n",
              "    <tr>\n",
              "      <th>3</th>\n",
              "      <td>Christopher Nolan</td>\n",
              "      <td>164.0</td>\n",
              "      <td>Christian Bale</td>\n",
              "      <td>448130642.0</td>\n",
              "      <td>Action|Thriller</td>\n",
              "      <td>Tom Hardy</td>\n",
              "      <td>The Dark Knight Rises</td>\n",
              "      <td>Joseph Gordon-Levitt</td>\n",
              "      <td>deception|imprisonment|lawlessness|police offi...</td>\n",
              "      <td>http://www.imdb.com/title/tt1345836/?ref_=fn_t...</td>\n",
              "      <td>English</td>\n",
              "      <td>USA</td>\n",
              "      <td>250000000.0</td>\n",
              "      <td>2012.0</td>\n",
              "      <td>8.5</td>\n",
              "    </tr>\n",
              "    <tr>\n",
              "      <th>8</th>\n",
              "      <td>Joss Whedon</td>\n",
              "      <td>141.0</td>\n",
              "      <td>Robert Downey Jr.</td>\n",
              "      <td>458991599.0</td>\n",
              "      <td>Action|Adventure|Sci-Fi</td>\n",
              "      <td>Chris Hemsworth</td>\n",
              "      <td>Avengers: Age of Ultron</td>\n",
              "      <td>Scarlett Johansson</td>\n",
              "      <td>artificial intelligence|based on comic book|ca...</td>\n",
              "      <td>http://www.imdb.com/title/tt2395427/?ref_=fn_t...</td>\n",
              "      <td>English</td>\n",
              "      <td>USA</td>\n",
              "      <td>250000000.0</td>\n",
              "      <td>2015.0</td>\n",
              "      <td>7.5</td>\n",
              "    </tr>\n",
              "    <tr>\n",
              "      <th>9</th>\n",
              "      <td>David Yates</td>\n",
              "      <td>153.0</td>\n",
              "      <td>Daniel Radcliffe</td>\n",
              "      <td>301956980.0</td>\n",
              "      <td>Adventure|Family|Fantasy|Mystery</td>\n",
              "      <td>Alan Rickman</td>\n",
              "      <td>Harry Potter and the Half-Blood Prince</td>\n",
              "      <td>Rupert Grint</td>\n",
              "      <td>blood|book|love|potion|professor</td>\n",
              "      <td>http://www.imdb.com/title/tt0417741/?ref_=fn_t...</td>\n",
              "      <td>English</td>\n",
              "      <td>UK</td>\n",
              "      <td>250000000.0</td>\n",
              "      <td>2009.0</td>\n",
              "      <td>7.5</td>\n",
              "    </tr>\n",
              "  </tbody>\n",
              "</table>\n",
              "</div>"
            ],
            "text/plain": [
              "       director_name  duration       actor_2_name        gross  \\\n",
              "0      James Cameron     178.0   Joel David Moore  760505847.0   \n",
              "1     Gore Verbinski     169.0      Orlando Bloom  309404152.0   \n",
              "3  Christopher Nolan     164.0     Christian Bale  448130642.0   \n",
              "8        Joss Whedon     141.0  Robert Downey Jr.  458991599.0   \n",
              "9        David Yates     153.0   Daniel Radcliffe  301956980.0   \n",
              "\n",
              "                             genres     actor_1_name  \\\n",
              "0   Action|Adventure|Fantasy|Sci-Fi      CCH Pounder   \n",
              "1          Action|Adventure|Fantasy      Johnny Depp   \n",
              "3                   Action|Thriller        Tom Hardy   \n",
              "8           Action|Adventure|Sci-Fi  Chris Hemsworth   \n",
              "9  Adventure|Family|Fantasy|Mystery     Alan Rickman   \n",
              "\n",
              "                                 movie_title          actor_3_name  \\\n",
              "0                                    Avatar              Wes Studi   \n",
              "1  Pirates of the Caribbean: At World's End         Jack Davenport   \n",
              "3                     The Dark Knight Rises   Joseph Gordon-Levitt   \n",
              "8                   Avengers: Age of Ultron     Scarlett Johansson   \n",
              "9    Harry Potter and the Half-Blood Prince           Rupert Grint   \n",
              "\n",
              "                                       plot_keywords  \\\n",
              "0             avatar|future|marine|native|paraplegic   \n",
              "1  goddess|marriage ceremony|marriage proposal|pi...   \n",
              "3  deception|imprisonment|lawlessness|police offi...   \n",
              "8  artificial intelligence|based on comic book|ca...   \n",
              "9                   blood|book|love|potion|professor   \n",
              "\n",
              "                                     movie_imdb_link language country  \\\n",
              "0  http://www.imdb.com/title/tt0499549/?ref_=fn_t...  English     USA   \n",
              "1  http://www.imdb.com/title/tt0449088/?ref_=fn_t...  English     USA   \n",
              "3  http://www.imdb.com/title/tt1345836/?ref_=fn_t...  English     USA   \n",
              "8  http://www.imdb.com/title/tt2395427/?ref_=fn_t...  English     USA   \n",
              "9  http://www.imdb.com/title/tt0417741/?ref_=fn_t...  English      UK   \n",
              "\n",
              "        budget  title_year  imdb_score  \n",
              "0  237000000.0      2009.0         7.9  \n",
              "1  300000000.0      2007.0         7.1  \n",
              "3  250000000.0      2012.0         8.5  \n",
              "8  250000000.0      2015.0         7.5  \n",
              "9  250000000.0      2009.0         7.5  "
            ]
          },
          "metadata": {
            "tags": []
          },
          "execution_count": 15
        }
      ]
    },
    {
      "metadata": {
        "id": "WoWgLt_qNKAQ",
        "colab_type": "code",
        "outputId": "685df474-72bd-4377-f65c-5210f3e2a687",
        "colab": {
          "base_uri": "https://localhost:8080/",
          "height": 400
        }
      },
      "cell_type": "code",
      "source": [
        "unsuccessful.head()"
      ],
      "execution_count": 16,
      "outputs": [
        {
          "output_type": "execute_result",
          "data": {
            "text/html": [
              "<div>\n",
              "<style scoped>\n",
              "    .dataframe tbody tr th:only-of-type {\n",
              "        vertical-align: middle;\n",
              "    }\n",
              "\n",
              "    .dataframe tbody tr th {\n",
              "        vertical-align: top;\n",
              "    }\n",
              "\n",
              "    .dataframe thead th {\n",
              "        text-align: right;\n",
              "    }\n",
              "</style>\n",
              "<table border=\"1\" class=\"dataframe\">\n",
              "  <thead>\n",
              "    <tr style=\"text-align: right;\">\n",
              "      <th></th>\n",
              "      <th>director_name</th>\n",
              "      <th>duration</th>\n",
              "      <th>actor_2_name</th>\n",
              "      <th>gross</th>\n",
              "      <th>genres</th>\n",
              "      <th>actor_1_name</th>\n",
              "      <th>movie_title</th>\n",
              "      <th>actor_3_name</th>\n",
              "      <th>plot_keywords</th>\n",
              "      <th>movie_imdb_link</th>\n",
              "      <th>language</th>\n",
              "      <th>country</th>\n",
              "      <th>budget</th>\n",
              "      <th>title_year</th>\n",
              "      <th>imdb_score</th>\n",
              "    </tr>\n",
              "  </thead>\n",
              "  <tbody>\n",
              "    <tr>\n",
              "      <th>11</th>\n",
              "      <td>Bryan Singer</td>\n",
              "      <td>169.0</td>\n",
              "      <td>Marlon Brando</td>\n",
              "      <td>200069408.0</td>\n",
              "      <td>Action|Adventure|Sci-Fi</td>\n",
              "      <td>Kevin Spacey</td>\n",
              "      <td>Superman Returns</td>\n",
              "      <td>Frank Langella</td>\n",
              "      <td>crystal|epic|lex luthor|lois lane|return to earth</td>\n",
              "      <td>http://www.imdb.com/title/tt0348150/?ref_=fn_t...</td>\n",
              "      <td>English</td>\n",
              "      <td>USA</td>\n",
              "      <td>209000000.0</td>\n",
              "      <td>2006.0</td>\n",
              "      <td>6.1</td>\n",
              "    </tr>\n",
              "    <tr>\n",
              "      <th>24</th>\n",
              "      <td>Chris Weitz</td>\n",
              "      <td>113.0</td>\n",
              "      <td>Eva Green</td>\n",
              "      <td>70083519.0</td>\n",
              "      <td>Adventure|Family|Fantasy</td>\n",
              "      <td>Christopher Lee</td>\n",
              "      <td>The Golden Compass</td>\n",
              "      <td>Kristin Scott Thomas</td>\n",
              "      <td>children|epic|friend|girl|quest</td>\n",
              "      <td>http://www.imdb.com/title/tt0385752/?ref_=fn_t...</td>\n",
              "      <td>English</td>\n",
              "      <td>USA</td>\n",
              "      <td>180000000.0</td>\n",
              "      <td>2007.0</td>\n",
              "      <td>6.1</td>\n",
              "    </tr>\n",
              "    <tr>\n",
              "      <th>28</th>\n",
              "      <td>Peter Berg</td>\n",
              "      <td>131.0</td>\n",
              "      <td>Alexander Skarsgård</td>\n",
              "      <td>65173160.0</td>\n",
              "      <td>Action|Adventure|Sci-Fi|Thriller</td>\n",
              "      <td>Liam Neeson</td>\n",
              "      <td>Battleship</td>\n",
              "      <td>Tadanobu Asano</td>\n",
              "      <td>box office flop|hawaii|naval|oahu hawaii|ship</td>\n",
              "      <td>http://www.imdb.com/title/tt1440129/?ref_=fn_t...</td>\n",
              "      <td>English</td>\n",
              "      <td>USA</td>\n",
              "      <td>209000000.0</td>\n",
              "      <td>2012.0</td>\n",
              "      <td>5.9</td>\n",
              "    </tr>\n",
              "    <tr>\n",
              "      <th>41</th>\n",
              "      <td>John Lasseter</td>\n",
              "      <td>106.0</td>\n",
              "      <td>Thomas Kretschmann</td>\n",
              "      <td>191450875.0</td>\n",
              "      <td>Adventure|Animation|Comedy|Family|Sport</td>\n",
              "      <td>Joe Mantegna</td>\n",
              "      <td>Cars 2</td>\n",
              "      <td>Eddie Izzard</td>\n",
              "      <td>best friend|car race|conspiracy|gadget car|spy</td>\n",
              "      <td>http://www.imdb.com/title/tt1216475/?ref_=fn_t...</td>\n",
              "      <td>English</td>\n",
              "      <td>USA</td>\n",
              "      <td>200000000.0</td>\n",
              "      <td>2011.0</td>\n",
              "      <td>6.3</td>\n",
              "    </tr>\n",
              "    <tr>\n",
              "      <th>42</th>\n",
              "      <td>Martin Campbell</td>\n",
              "      <td>123.0</td>\n",
              "      <td>Temuera Morrison</td>\n",
              "      <td>116593191.0</td>\n",
              "      <td>Action|Adventure|Sci-Fi</td>\n",
              "      <td>Ryan Reynolds</td>\n",
              "      <td>Green Lantern</td>\n",
              "      <td>Taika Waititi</td>\n",
              "      <td>autopsy|lantern|planet|ring|test pilot</td>\n",
              "      <td>http://www.imdb.com/title/tt1133985/?ref_=fn_t...</td>\n",
              "      <td>English</td>\n",
              "      <td>USA</td>\n",
              "      <td>200000000.0</td>\n",
              "      <td>2011.0</td>\n",
              "      <td>5.6</td>\n",
              "    </tr>\n",
              "  </tbody>\n",
              "</table>\n",
              "</div>"
            ],
            "text/plain": [
              "      director_name  duration         actor_2_name        gross  \\\n",
              "11     Bryan Singer     169.0        Marlon Brando  200069408.0   \n",
              "24      Chris Weitz     113.0            Eva Green   70083519.0   \n",
              "28       Peter Berg     131.0  Alexander Skarsgård   65173160.0   \n",
              "41    John Lasseter     106.0   Thomas Kretschmann  191450875.0   \n",
              "42  Martin Campbell     123.0     Temuera Morrison  116593191.0   \n",
              "\n",
              "                                     genres     actor_1_name  \\\n",
              "11                  Action|Adventure|Sci-Fi     Kevin Spacey   \n",
              "24                 Adventure|Family|Fantasy  Christopher Lee   \n",
              "28         Action|Adventure|Sci-Fi|Thriller      Liam Neeson   \n",
              "41  Adventure|Animation|Comedy|Family|Sport     Joe Mantegna   \n",
              "42                  Action|Adventure|Sci-Fi    Ryan Reynolds   \n",
              "\n",
              "            movie_title          actor_3_name  \\\n",
              "11    Superman Returns         Frank Langella   \n",
              "24  The Golden Compass   Kristin Scott Thomas   \n",
              "28          Battleship         Tadanobu Asano   \n",
              "41              Cars 2           Eddie Izzard   \n",
              "42       Green Lantern          Taika Waititi   \n",
              "\n",
              "                                        plot_keywords  \\\n",
              "11  crystal|epic|lex luthor|lois lane|return to earth   \n",
              "24                    children|epic|friend|girl|quest   \n",
              "28      box office flop|hawaii|naval|oahu hawaii|ship   \n",
              "41     best friend|car race|conspiracy|gadget car|spy   \n",
              "42             autopsy|lantern|planet|ring|test pilot   \n",
              "\n",
              "                                      movie_imdb_link language country  \\\n",
              "11  http://www.imdb.com/title/tt0348150/?ref_=fn_t...  English     USA   \n",
              "24  http://www.imdb.com/title/tt0385752/?ref_=fn_t...  English     USA   \n",
              "28  http://www.imdb.com/title/tt1440129/?ref_=fn_t...  English     USA   \n",
              "41  http://www.imdb.com/title/tt1216475/?ref_=fn_t...  English     USA   \n",
              "42  http://www.imdb.com/title/tt1133985/?ref_=fn_t...  English     USA   \n",
              "\n",
              "         budget  title_year  imdb_score  \n",
              "11  209000000.0      2006.0         6.1  \n",
              "24  180000000.0      2007.0         6.1  \n",
              "28  209000000.0      2012.0         5.9  \n",
              "41  200000000.0      2011.0         6.3  \n",
              "42  200000000.0      2011.0         5.6  "
            ]
          },
          "metadata": {
            "tags": []
          },
          "execution_count": 16
        }
      ]
    },
    {
      "metadata": {
        "id": "rlvKltGLP52f",
        "colab_type": "code",
        "outputId": "7cfbad12-6d6b-44b5-bc2f-0e8210060bff",
        "colab": {
          "base_uri": "https://localhost:8080/",
          "height": 499
        }
      },
      "cell_type": "code",
      "source": [
        "successful = successful.join(successful.pop('genres').str.get_dummies('|'))\n",
        "successful.head()"
      ],
      "execution_count": 17,
      "outputs": [
        {
          "output_type": "execute_result",
          "data": {
            "text/html": [
              "<div>\n",
              "<style scoped>\n",
              "    .dataframe tbody tr th:only-of-type {\n",
              "        vertical-align: middle;\n",
              "    }\n",
              "\n",
              "    .dataframe tbody tr th {\n",
              "        vertical-align: top;\n",
              "    }\n",
              "\n",
              "    .dataframe thead th {\n",
              "        text-align: right;\n",
              "    }\n",
              "</style>\n",
              "<table border=\"1\" class=\"dataframe\">\n",
              "  <thead>\n",
              "    <tr style=\"text-align: right;\">\n",
              "      <th></th>\n",
              "      <th>director_name</th>\n",
              "      <th>duration</th>\n",
              "      <th>actor_2_name</th>\n",
              "      <th>gross</th>\n",
              "      <th>actor_1_name</th>\n",
              "      <th>movie_title</th>\n",
              "      <th>actor_3_name</th>\n",
              "      <th>plot_keywords</th>\n",
              "      <th>movie_imdb_link</th>\n",
              "      <th>language</th>\n",
              "      <th>...</th>\n",
              "      <th>Horror</th>\n",
              "      <th>Music</th>\n",
              "      <th>Musical</th>\n",
              "      <th>Mystery</th>\n",
              "      <th>Romance</th>\n",
              "      <th>Sci-Fi</th>\n",
              "      <th>Sport</th>\n",
              "      <th>Thriller</th>\n",
              "      <th>War</th>\n",
              "      <th>Western</th>\n",
              "    </tr>\n",
              "  </thead>\n",
              "  <tbody>\n",
              "    <tr>\n",
              "      <th>0</th>\n",
              "      <td>James Cameron</td>\n",
              "      <td>178.0</td>\n",
              "      <td>Joel David Moore</td>\n",
              "      <td>760505847.0</td>\n",
              "      <td>CCH Pounder</td>\n",
              "      <td>Avatar</td>\n",
              "      <td>Wes Studi</td>\n",
              "      <td>avatar|future|marine|native|paraplegic</td>\n",
              "      <td>http://www.imdb.com/title/tt0499549/?ref_=fn_t...</td>\n",
              "      <td>English</td>\n",
              "      <td>...</td>\n",
              "      <td>0</td>\n",
              "      <td>0</td>\n",
              "      <td>0</td>\n",
              "      <td>0</td>\n",
              "      <td>0</td>\n",
              "      <td>1</td>\n",
              "      <td>0</td>\n",
              "      <td>0</td>\n",
              "      <td>0</td>\n",
              "      <td>0</td>\n",
              "    </tr>\n",
              "    <tr>\n",
              "      <th>1</th>\n",
              "      <td>Gore Verbinski</td>\n",
              "      <td>169.0</td>\n",
              "      <td>Orlando Bloom</td>\n",
              "      <td>309404152.0</td>\n",
              "      <td>Johnny Depp</td>\n",
              "      <td>Pirates of the Caribbean: At World's End</td>\n",
              "      <td>Jack Davenport</td>\n",
              "      <td>goddess|marriage ceremony|marriage proposal|pi...</td>\n",
              "      <td>http://www.imdb.com/title/tt0449088/?ref_=fn_t...</td>\n",
              "      <td>English</td>\n",
              "      <td>...</td>\n",
              "      <td>0</td>\n",
              "      <td>0</td>\n",
              "      <td>0</td>\n",
              "      <td>0</td>\n",
              "      <td>0</td>\n",
              "      <td>0</td>\n",
              "      <td>0</td>\n",
              "      <td>0</td>\n",
              "      <td>0</td>\n",
              "      <td>0</td>\n",
              "    </tr>\n",
              "    <tr>\n",
              "      <th>3</th>\n",
              "      <td>Christopher Nolan</td>\n",
              "      <td>164.0</td>\n",
              "      <td>Christian Bale</td>\n",
              "      <td>448130642.0</td>\n",
              "      <td>Tom Hardy</td>\n",
              "      <td>The Dark Knight Rises</td>\n",
              "      <td>Joseph Gordon-Levitt</td>\n",
              "      <td>deception|imprisonment|lawlessness|police offi...</td>\n",
              "      <td>http://www.imdb.com/title/tt1345836/?ref_=fn_t...</td>\n",
              "      <td>English</td>\n",
              "      <td>...</td>\n",
              "      <td>0</td>\n",
              "      <td>0</td>\n",
              "      <td>0</td>\n",
              "      <td>0</td>\n",
              "      <td>0</td>\n",
              "      <td>0</td>\n",
              "      <td>0</td>\n",
              "      <td>1</td>\n",
              "      <td>0</td>\n",
              "      <td>0</td>\n",
              "    </tr>\n",
              "    <tr>\n",
              "      <th>8</th>\n",
              "      <td>Joss Whedon</td>\n",
              "      <td>141.0</td>\n",
              "      <td>Robert Downey Jr.</td>\n",
              "      <td>458991599.0</td>\n",
              "      <td>Chris Hemsworth</td>\n",
              "      <td>Avengers: Age of Ultron</td>\n",
              "      <td>Scarlett Johansson</td>\n",
              "      <td>artificial intelligence|based on comic book|ca...</td>\n",
              "      <td>http://www.imdb.com/title/tt2395427/?ref_=fn_t...</td>\n",
              "      <td>English</td>\n",
              "      <td>...</td>\n",
              "      <td>0</td>\n",
              "      <td>0</td>\n",
              "      <td>0</td>\n",
              "      <td>0</td>\n",
              "      <td>0</td>\n",
              "      <td>1</td>\n",
              "      <td>0</td>\n",
              "      <td>0</td>\n",
              "      <td>0</td>\n",
              "      <td>0</td>\n",
              "    </tr>\n",
              "    <tr>\n",
              "      <th>9</th>\n",
              "      <td>David Yates</td>\n",
              "      <td>153.0</td>\n",
              "      <td>Daniel Radcliffe</td>\n",
              "      <td>301956980.0</td>\n",
              "      <td>Alan Rickman</td>\n",
              "      <td>Harry Potter and the Half-Blood Prince</td>\n",
              "      <td>Rupert Grint</td>\n",
              "      <td>blood|book|love|potion|professor</td>\n",
              "      <td>http://www.imdb.com/title/tt0417741/?ref_=fn_t...</td>\n",
              "      <td>English</td>\n",
              "      <td>...</td>\n",
              "      <td>0</td>\n",
              "      <td>0</td>\n",
              "      <td>0</td>\n",
              "      <td>1</td>\n",
              "      <td>0</td>\n",
              "      <td>0</td>\n",
              "      <td>0</td>\n",
              "      <td>0</td>\n",
              "      <td>0</td>\n",
              "      <td>0</td>\n",
              "    </tr>\n",
              "  </tbody>\n",
              "</table>\n",
              "<p>5 rows × 34 columns</p>\n",
              "</div>"
            ],
            "text/plain": [
              "       director_name  duration       actor_2_name        gross  \\\n",
              "0      James Cameron     178.0   Joel David Moore  760505847.0   \n",
              "1     Gore Verbinski     169.0      Orlando Bloom  309404152.0   \n",
              "3  Christopher Nolan     164.0     Christian Bale  448130642.0   \n",
              "8        Joss Whedon     141.0  Robert Downey Jr.  458991599.0   \n",
              "9        David Yates     153.0   Daniel Radcliffe  301956980.0   \n",
              "\n",
              "      actor_1_name                                movie_title  \\\n",
              "0      CCH Pounder                                    Avatar    \n",
              "1      Johnny Depp  Pirates of the Caribbean: At World's End    \n",
              "3        Tom Hardy                     The Dark Knight Rises    \n",
              "8  Chris Hemsworth                   Avengers: Age of Ultron    \n",
              "9     Alan Rickman    Harry Potter and the Half-Blood Prince    \n",
              "\n",
              "           actor_3_name                                      plot_keywords  \\\n",
              "0             Wes Studi             avatar|future|marine|native|paraplegic   \n",
              "1        Jack Davenport  goddess|marriage ceremony|marriage proposal|pi...   \n",
              "3  Joseph Gordon-Levitt  deception|imprisonment|lawlessness|police offi...   \n",
              "8    Scarlett Johansson  artificial intelligence|based on comic book|ca...   \n",
              "9          Rupert Grint                   blood|book|love|potion|professor   \n",
              "\n",
              "                                     movie_imdb_link language   ...    Horror  \\\n",
              "0  http://www.imdb.com/title/tt0499549/?ref_=fn_t...  English   ...         0   \n",
              "1  http://www.imdb.com/title/tt0449088/?ref_=fn_t...  English   ...         0   \n",
              "3  http://www.imdb.com/title/tt1345836/?ref_=fn_t...  English   ...         0   \n",
              "8  http://www.imdb.com/title/tt2395427/?ref_=fn_t...  English   ...         0   \n",
              "9  http://www.imdb.com/title/tt0417741/?ref_=fn_t...  English   ...         0   \n",
              "\n",
              "   Music  Musical  Mystery  Romance  Sci-Fi  Sport  Thriller  War  Western  \n",
              "0      0        0        0        0       1      0         0    0        0  \n",
              "1      0        0        0        0       0      0         0    0        0  \n",
              "3      0        0        0        0       0      0         1    0        0  \n",
              "8      0        0        0        0       1      0         0    0        0  \n",
              "9      0        0        1        0       0      0         0    0        0  \n",
              "\n",
              "[5 rows x 34 columns]"
            ]
          },
          "metadata": {
            "tags": []
          },
          "execution_count": 17
        }
      ]
    },
    {
      "metadata": {
        "id": "4UDLaCiaR8gM",
        "colab_type": "code",
        "outputId": "76b268aa-aeaf-4a74-c7e4-9f43e8c913a5",
        "colab": {
          "base_uri": "https://localhost:8080/",
          "height": 447
        }
      },
      "cell_type": "code",
      "source": [
        "unsuccessful = unsuccessful.join(unsuccessful.pop('genres').str.get_dummies('|'))\n",
        "unsuccessful.head()"
      ],
      "execution_count": 18,
      "outputs": [
        {
          "output_type": "execute_result",
          "data": {
            "text/html": [
              "<div>\n",
              "<style scoped>\n",
              "    .dataframe tbody tr th:only-of-type {\n",
              "        vertical-align: middle;\n",
              "    }\n",
              "\n",
              "    .dataframe tbody tr th {\n",
              "        vertical-align: top;\n",
              "    }\n",
              "\n",
              "    .dataframe thead th {\n",
              "        text-align: right;\n",
              "    }\n",
              "</style>\n",
              "<table border=\"1\" class=\"dataframe\">\n",
              "  <thead>\n",
              "    <tr style=\"text-align: right;\">\n",
              "      <th></th>\n",
              "      <th>director_name</th>\n",
              "      <th>duration</th>\n",
              "      <th>actor_2_name</th>\n",
              "      <th>gross</th>\n",
              "      <th>actor_1_name</th>\n",
              "      <th>movie_title</th>\n",
              "      <th>actor_3_name</th>\n",
              "      <th>plot_keywords</th>\n",
              "      <th>movie_imdb_link</th>\n",
              "      <th>language</th>\n",
              "      <th>...</th>\n",
              "      <th>Horror</th>\n",
              "      <th>Music</th>\n",
              "      <th>Musical</th>\n",
              "      <th>Mystery</th>\n",
              "      <th>Romance</th>\n",
              "      <th>Sci-Fi</th>\n",
              "      <th>Sport</th>\n",
              "      <th>Thriller</th>\n",
              "      <th>War</th>\n",
              "      <th>Western</th>\n",
              "    </tr>\n",
              "  </thead>\n",
              "  <tbody>\n",
              "    <tr>\n",
              "      <th>11</th>\n",
              "      <td>Bryan Singer</td>\n",
              "      <td>169.0</td>\n",
              "      <td>Marlon Brando</td>\n",
              "      <td>200069408.0</td>\n",
              "      <td>Kevin Spacey</td>\n",
              "      <td>Superman Returns</td>\n",
              "      <td>Frank Langella</td>\n",
              "      <td>crystal|epic|lex luthor|lois lane|return to earth</td>\n",
              "      <td>http://www.imdb.com/title/tt0348150/?ref_=fn_t...</td>\n",
              "      <td>English</td>\n",
              "      <td>...</td>\n",
              "      <td>0</td>\n",
              "      <td>0</td>\n",
              "      <td>0</td>\n",
              "      <td>0</td>\n",
              "      <td>0</td>\n",
              "      <td>1</td>\n",
              "      <td>0</td>\n",
              "      <td>0</td>\n",
              "      <td>0</td>\n",
              "      <td>0</td>\n",
              "    </tr>\n",
              "    <tr>\n",
              "      <th>24</th>\n",
              "      <td>Chris Weitz</td>\n",
              "      <td>113.0</td>\n",
              "      <td>Eva Green</td>\n",
              "      <td>70083519.0</td>\n",
              "      <td>Christopher Lee</td>\n",
              "      <td>The Golden Compass</td>\n",
              "      <td>Kristin Scott Thomas</td>\n",
              "      <td>children|epic|friend|girl|quest</td>\n",
              "      <td>http://www.imdb.com/title/tt0385752/?ref_=fn_t...</td>\n",
              "      <td>English</td>\n",
              "      <td>...</td>\n",
              "      <td>0</td>\n",
              "      <td>0</td>\n",
              "      <td>0</td>\n",
              "      <td>0</td>\n",
              "      <td>0</td>\n",
              "      <td>0</td>\n",
              "      <td>0</td>\n",
              "      <td>0</td>\n",
              "      <td>0</td>\n",
              "      <td>0</td>\n",
              "    </tr>\n",
              "    <tr>\n",
              "      <th>28</th>\n",
              "      <td>Peter Berg</td>\n",
              "      <td>131.0</td>\n",
              "      <td>Alexander Skarsgård</td>\n",
              "      <td>65173160.0</td>\n",
              "      <td>Liam Neeson</td>\n",
              "      <td>Battleship</td>\n",
              "      <td>Tadanobu Asano</td>\n",
              "      <td>box office flop|hawaii|naval|oahu hawaii|ship</td>\n",
              "      <td>http://www.imdb.com/title/tt1440129/?ref_=fn_t...</td>\n",
              "      <td>English</td>\n",
              "      <td>...</td>\n",
              "      <td>0</td>\n",
              "      <td>0</td>\n",
              "      <td>0</td>\n",
              "      <td>0</td>\n",
              "      <td>0</td>\n",
              "      <td>1</td>\n",
              "      <td>0</td>\n",
              "      <td>1</td>\n",
              "      <td>0</td>\n",
              "      <td>0</td>\n",
              "    </tr>\n",
              "    <tr>\n",
              "      <th>41</th>\n",
              "      <td>John Lasseter</td>\n",
              "      <td>106.0</td>\n",
              "      <td>Thomas Kretschmann</td>\n",
              "      <td>191450875.0</td>\n",
              "      <td>Joe Mantegna</td>\n",
              "      <td>Cars 2</td>\n",
              "      <td>Eddie Izzard</td>\n",
              "      <td>best friend|car race|conspiracy|gadget car|spy</td>\n",
              "      <td>http://www.imdb.com/title/tt1216475/?ref_=fn_t...</td>\n",
              "      <td>English</td>\n",
              "      <td>...</td>\n",
              "      <td>0</td>\n",
              "      <td>0</td>\n",
              "      <td>0</td>\n",
              "      <td>0</td>\n",
              "      <td>0</td>\n",
              "      <td>0</td>\n",
              "      <td>1</td>\n",
              "      <td>0</td>\n",
              "      <td>0</td>\n",
              "      <td>0</td>\n",
              "    </tr>\n",
              "    <tr>\n",
              "      <th>42</th>\n",
              "      <td>Martin Campbell</td>\n",
              "      <td>123.0</td>\n",
              "      <td>Temuera Morrison</td>\n",
              "      <td>116593191.0</td>\n",
              "      <td>Ryan Reynolds</td>\n",
              "      <td>Green Lantern</td>\n",
              "      <td>Taika Waititi</td>\n",
              "      <td>autopsy|lantern|planet|ring|test pilot</td>\n",
              "      <td>http://www.imdb.com/title/tt1133985/?ref_=fn_t...</td>\n",
              "      <td>English</td>\n",
              "      <td>...</td>\n",
              "      <td>0</td>\n",
              "      <td>0</td>\n",
              "      <td>0</td>\n",
              "      <td>0</td>\n",
              "      <td>0</td>\n",
              "      <td>1</td>\n",
              "      <td>0</td>\n",
              "      <td>0</td>\n",
              "      <td>0</td>\n",
              "      <td>0</td>\n",
              "    </tr>\n",
              "  </tbody>\n",
              "</table>\n",
              "<p>5 rows × 34 columns</p>\n",
              "</div>"
            ],
            "text/plain": [
              "      director_name  duration         actor_2_name        gross  \\\n",
              "11     Bryan Singer     169.0        Marlon Brando  200069408.0   \n",
              "24      Chris Weitz     113.0            Eva Green   70083519.0   \n",
              "28       Peter Berg     131.0  Alexander Skarsgård   65173160.0   \n",
              "41    John Lasseter     106.0   Thomas Kretschmann  191450875.0   \n",
              "42  Martin Campbell     123.0     Temuera Morrison  116593191.0   \n",
              "\n",
              "       actor_1_name          movie_title          actor_3_name  \\\n",
              "11     Kevin Spacey    Superman Returns         Frank Langella   \n",
              "24  Christopher Lee  The Golden Compass   Kristin Scott Thomas   \n",
              "28      Liam Neeson          Battleship         Tadanobu Asano   \n",
              "41     Joe Mantegna              Cars 2           Eddie Izzard   \n",
              "42    Ryan Reynolds       Green Lantern          Taika Waititi   \n",
              "\n",
              "                                        plot_keywords  \\\n",
              "11  crystal|epic|lex luthor|lois lane|return to earth   \n",
              "24                    children|epic|friend|girl|quest   \n",
              "28      box office flop|hawaii|naval|oahu hawaii|ship   \n",
              "41     best friend|car race|conspiracy|gadget car|spy   \n",
              "42             autopsy|lantern|planet|ring|test pilot   \n",
              "\n",
              "                                      movie_imdb_link language   ...     \\\n",
              "11  http://www.imdb.com/title/tt0348150/?ref_=fn_t...  English   ...      \n",
              "24  http://www.imdb.com/title/tt0385752/?ref_=fn_t...  English   ...      \n",
              "28  http://www.imdb.com/title/tt1440129/?ref_=fn_t...  English   ...      \n",
              "41  http://www.imdb.com/title/tt1216475/?ref_=fn_t...  English   ...      \n",
              "42  http://www.imdb.com/title/tt1133985/?ref_=fn_t...  English   ...      \n",
              "\n",
              "   Horror  Music  Musical  Mystery  Romance  Sci-Fi  Sport  Thriller  War  \\\n",
              "11      0      0        0        0        0       1      0         0    0   \n",
              "24      0      0        0        0        0       0      0         0    0   \n",
              "28      0      0        0        0        0       1      0         1    0   \n",
              "41      0      0        0        0        0       0      1         0    0   \n",
              "42      0      0        0        0        0       1      0         0    0   \n",
              "\n",
              "    Western  \n",
              "11        0  \n",
              "24        0  \n",
              "28        0  \n",
              "41        0  \n",
              "42        0  \n",
              "\n",
              "[5 rows x 34 columns]"
            ]
          },
          "metadata": {
            "tags": []
          },
          "execution_count": 18
        }
      ]
    },
    {
      "metadata": {
        "id": "XwAohvzjSJr-",
        "colab_type": "code",
        "outputId": "d1bee044-fc03-443b-9e2b-c0abeb4206f9",
        "colab": {
          "base_uri": "https://localhost:8080/",
          "height": 139
        }
      },
      "cell_type": "code",
      "source": [
        "successful.columns"
      ],
      "execution_count": 19,
      "outputs": [
        {
          "output_type": "execute_result",
          "data": {
            "text/plain": [
              "Index(['director_name', 'duration', 'actor_2_name', 'gross', 'actor_1_name',\n",
              "       'movie_title', 'actor_3_name', 'plot_keywords', 'movie_imdb_link',\n",
              "       'language', 'country', 'budget', 'title_year', 'imdb_score', 'Action',\n",
              "       'Adventure', 'Animation', 'Biography', 'Comedy', 'Crime', 'Drama',\n",
              "       'Family', 'Fantasy', 'History', 'Horror', 'Music', 'Musical', 'Mystery',\n",
              "       'Romance', 'Sci-Fi', 'Sport', 'Thriller', 'War', 'Western'],\n",
              "      dtype='object')"
            ]
          },
          "metadata": {
            "tags": []
          },
          "execution_count": 19
        }
      ]
    },
    {
      "metadata": {
        "id": "dbqUvJyUSTGC",
        "colab_type": "code",
        "colab": {
          "base_uri": "https://localhost:8080/",
          "height": 86
        },
        "outputId": "d063ed97-0a0b-4035-a753-145e2190ae3b"
      },
      "cell_type": "code",
      "source": [
        "ncol = len(successful.columns)\n",
        "s_genres = successful[successful.columns[14:ncol]]\n",
        "s_genres.columns"
      ],
      "execution_count": 20,
      "outputs": [
        {
          "output_type": "execute_result",
          "data": {
            "text/plain": [
              "Index(['Action', 'Adventure', 'Animation', 'Biography', 'Comedy', 'Crime',\n",
              "       'Drama', 'Family', 'Fantasy', 'History', 'Horror', 'Music', 'Musical',\n",
              "       'Mystery', 'Romance', 'Sci-Fi', 'Sport', 'Thriller', 'War', 'Western'],\n",
              "      dtype='object')"
            ]
          },
          "metadata": {
            "tags": []
          },
          "execution_count": 20
        }
      ]
    },
    {
      "metadata": {
        "id": "iuCuAykoMzEK",
        "colab_type": "code",
        "colab": {
          "base_uri": "https://localhost:8080/",
          "height": 86
        },
        "outputId": "e55ca917-c669-4b5f-a1d2-db58f03b23eb"
      },
      "cell_type": "code",
      "source": [
        "ncol = len(unsuccessful.columns)\n",
        "u_genres = unsuccessful[unsuccessful.columns[14:ncol]]\n",
        "u_genres.columns"
      ],
      "execution_count": 21,
      "outputs": [
        {
          "output_type": "execute_result",
          "data": {
            "text/plain": [
              "Index(['Action', 'Adventure', 'Animation', 'Biography', 'Comedy', 'Crime',\n",
              "       'Drama', 'Family', 'Fantasy', 'History', 'Horror', 'Music', 'Musical',\n",
              "       'Mystery', 'Romance', 'Sci-Fi', 'Sport', 'Thriller', 'War', 'Western'],\n",
              "      dtype='object')"
            ]
          },
          "metadata": {
            "tags": []
          },
          "execution_count": 21
        }
      ]
    },
    {
      "metadata": {
        "id": "J4NrQh7wIy92",
        "colab_type": "code",
        "colab": {
          "base_uri": "https://localhost:8080/",
          "height": 337
        },
        "outputId": "01623447-a9e6-47f7-bc4a-bbf176afc442"
      },
      "cell_type": "code",
      "source": [
        "import matplotlib.pyplot as plt\n",
        "bdgt_analysis_s = successful[['budget', 'title_year']].groupby('title_year')\n",
        "fig, ax1 = plt.subplots(figsize=(10,5))\n",
        "ax1.plot(bdgt_analysis_s.title_year.first(), bdgt_analysis_s.budget.nunique(), \"g-o\")\n",
        "ax1.grid(None)\n",
        "ax1.set_ylim(0,)\n",
        "\n",
        "# green - successful, red - unsuccessful\n",
        "\n",
        "bdgt_analysis_u = unsuccessful[['budget', 'title_year']].groupby('title_year')\n",
        "ax2 = ax1.twinx()\n",
        "ax2.plot(bdgt_analysis_u.title_year.first(), bdgt_analysis_u.budget.count(), \"r-o\")\n",
        "ax2.grid(None)\n",
        "ax2.set_ylim(0,)"
      ],
      "execution_count": 32,
      "outputs": [
        {
          "output_type": "execute_result",
          "data": {
            "text/plain": [
              "(0, 54.55)"
            ]
          },
          "metadata": {
            "tags": []
          },
          "execution_count": 32
        },
        {
          "output_type": "display_data",
          "data": {
            "image/png": "[encoded data removed]",
            "text/plain": [
              "<matplotlib.figure.Figure at 0x7fbb7acd8a58>"
            ]
          },
          "metadata": {
            "tags": []
          }
        }
      ]
    },
    {
      "metadata": {
        "id": "Fqb7RhrjKRGz",
        "colab_type": "code",
        "colab": {}
      },
      "cell_type": "code",
      "source": [
        ""
      ],
      "execution_count": 0,
      "outputs": []
    }
  ]
}