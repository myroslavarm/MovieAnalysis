{
  "nbformat": 4,
  "nbformat_minor": 0,
  "metadata": {
    "colab": {
      "name": "movieanalysis.ipynb",
      "version": "0.3.2",
      "provenance": [],
      "collapsed_sections": []
    },
    "kernelspec": {
      "display_name": "Python 3",
      "language": "python",
      "name": "python3"
    }
  },
  "cells": [
    {
      "metadata": {
        "id": "S6TF3-kGEX7B",
        "colab_type": "text"
      },
      "cell_type": "markdown",
      "source": [
        "# Analysis of successful vs unsuccessful films\n",
        "## In an attempt to discover what makes a film successful"
      ]
    },
    {
      "metadata": {
        "id": "warG6vEnGR9f",
        "colab_type": "text"
      },
      "cell_type": "markdown",
      "source": [
        "## Setting up"
      ]
    },
    {
      "metadata": {
        "id": "AWSjH0FINJ8V",
        "colab_type": "code",
        "colab": {}
      },
      "cell_type": "code",
      "source": [
        "import pandas as pd\n",
        "import numpy as np\n",
        "\n",
        "from sklearn.preprocessing import LabelEncoder\n",
        "\n",
        "import matplotlib.pyplot as plt"
      ],
      "execution_count": 0,
      "outputs": []
    },
    {
      "metadata": {
        "id": "Qh1gJeTtNJ9V",
        "colab_type": "code",
        "outputId": "82ec4947-0222-4ce3-d209-79b764575ad3",
        "colab": {
          "base_uri": "https://localhost:8080/",
          "height": 34
        }
      },
      "cell_type": "code",
      "source": [
        "from google.colab import drive\n",
        "drive.mount('/content/gdrive')"
      ],
      "execution_count": 2,
      "outputs": [
        {
          "output_type": "stream",
          "text": [
            "Drive already mounted at /content/gdrive; to attempt to forcibly remount, call drive.mount(\"/content/gdrive\", force_remount=True).\n"
          ],
          "name": "stdout"
        }
      ]
    },
    {
      "metadata": {
        "id": "dceyZGGAPBsJ",
        "colab_type": "code",
        "outputId": "276be281-61c0-4e7a-81ed-caa00cd44911",
        "colab": {
          "base_uri": "https://localhost:8080/",
          "height": 308
        }
      },
      "cell_type": "code",
      "source": [
        "metadata = pd.read_csv('/content/gdrive/My Drive/Colab Notebooks/movie_metadata.csv')\n",
        "metadata.head()"
      ],
      "execution_count": 3,
      "outputs": [
        {
          "output_type": "execute_result",
          "data": {
            "text/html": [
              "<div>\n",
              "<style scoped>\n",
              "    .dataframe tbody tr th:only-of-type {\n",
              "        vertical-align: middle;\n",
              "    }\n",
              "\n",
              "    .dataframe tbody tr th {\n",
              "        vertical-align: top;\n",
              "    }\n",
              "\n",
              "    .dataframe thead th {\n",
              "        text-align: right;\n",
              "    }\n",
              "</style>\n",
              "<table border=\"1\" class=\"dataframe\">\n",
              "  <thead>\n",
              "    <tr style=\"text-align: right;\">\n",
              "      <th></th>\n",
              "      <th>color</th>\n",
              "      <th>director_name</th>\n",
              "      <th>num_critic_for_reviews</th>\n",
              "      <th>duration</th>\n",
              "      <th>director_facebook_likes</th>\n",
              "      <th>actor_3_facebook_likes</th>\n",
              "      <th>actor_2_name</th>\n",
              "      <th>actor_1_facebook_likes</th>\n",
              "      <th>gross</th>\n",
              "      <th>genres</th>\n",
              "      <th>...</th>\n",
              "      <th>num_user_for_reviews</th>\n",
              "      <th>language</th>\n",
              "      <th>country</th>\n",
              "      <th>content_rating</th>\n",
              "      <th>budget</th>\n",
              "      <th>title_year</th>\n",
              "      <th>actor_2_facebook_likes</th>\n",
              "      <th>imdb_score</th>\n",
              "      <th>aspect_ratio</th>\n",
              "      <th>movie_facebook_likes</th>\n",
              "    </tr>\n",
              "  </thead>\n",
              "  <tbody>\n",
              "    <tr>\n",
              "      <th>0</th>\n",
              "      <td>Color</td>\n",
              "      <td>James Cameron</td>\n",
              "      <td>723.0</td>\n",
              "      <td>178.0</td>\n",
              "      <td>0.0</td>\n",
              "      <td>855.0</td>\n",
              "      <td>Joel David Moore</td>\n",
              "      <td>1000.0</td>\n",
              "      <td>760505847.0</td>\n",
              "      <td>Action|Adventure|Fantasy|Sci-Fi</td>\n",
              "      <td>...</td>\n",
              "      <td>3054.0</td>\n",
              "      <td>English</td>\n",
              "      <td>USA</td>\n",
              "      <td>PG-13</td>\n",
              "      <td>237000000.0</td>\n",
              "      <td>2009.0</td>\n",
              "      <td>936.0</td>\n",
              "      <td>7.9</td>\n",
              "      <td>1.78</td>\n",
              "      <td>33000</td>\n",
              "    </tr>\n",
              "    <tr>\n",
              "      <th>1</th>\n",
              "      <td>Color</td>\n",
              "      <td>Gore Verbinski</td>\n",
              "      <td>302.0</td>\n",
              "      <td>169.0</td>\n",
              "      <td>563.0</td>\n",
              "      <td>1000.0</td>\n",
              "      <td>Orlando Bloom</td>\n",
              "      <td>40000.0</td>\n",
              "      <td>309404152.0</td>\n",
              "      <td>Action|Adventure|Fantasy</td>\n",
              "      <td>...</td>\n",
              "      <td>1238.0</td>\n",
              "      <td>English</td>\n",
              "      <td>USA</td>\n",
              "      <td>PG-13</td>\n",
              "      <td>300000000.0</td>\n",
              "      <td>2007.0</td>\n",
              "      <td>5000.0</td>\n",
              "      <td>7.1</td>\n",
              "      <td>2.35</td>\n",
              "      <td>0</td>\n",
              "    </tr>\n",
              "    <tr>\n",
              "      <th>2</th>\n",
              "      <td>Color</td>\n",
              "      <td>Sam Mendes</td>\n",
              "      <td>602.0</td>\n",
              "      <td>148.0</td>\n",
              "      <td>0.0</td>\n",
              "      <td>161.0</td>\n",
              "      <td>Rory Kinnear</td>\n",
              "      <td>11000.0</td>\n",
              "      <td>200074175.0</td>\n",
              "      <td>Action|Adventure|Thriller</td>\n",
              "      <td>...</td>\n",
              "      <td>994.0</td>\n",
              "      <td>English</td>\n",
              "      <td>UK</td>\n",
              "      <td>PG-13</td>\n",
              "      <td>245000000.0</td>\n",
              "      <td>2015.0</td>\n",
              "      <td>393.0</td>\n",
              "      <td>6.8</td>\n",
              "      <td>2.35</td>\n",
              "      <td>85000</td>\n",
              "    </tr>\n",
              "    <tr>\n",
              "      <th>3</th>\n",
              "      <td>Color</td>\n",
              "      <td>Christopher Nolan</td>\n",
              "      <td>813.0</td>\n",
              "      <td>164.0</td>\n",
              "      <td>22000.0</td>\n",
              "      <td>23000.0</td>\n",
              "      <td>Christian Bale</td>\n",
              "      <td>27000.0</td>\n",
              "      <td>448130642.0</td>\n",
              "      <td>Action|Thriller</td>\n",
              "      <td>...</td>\n",
              "      <td>2701.0</td>\n",
              "      <td>English</td>\n",
              "      <td>USA</td>\n",
              "      <td>PG-13</td>\n",
              "      <td>250000000.0</td>\n",
              "      <td>2012.0</td>\n",
              "      <td>23000.0</td>\n",
              "      <td>8.5</td>\n",
              "      <td>2.35</td>\n",
              "      <td>164000</td>\n",
              "    </tr>\n",
              "    <tr>\n",
              "      <th>4</th>\n",
              "      <td>NaN</td>\n",
              "      <td>Doug Walker</td>\n",
              "      <td>NaN</td>\n",
              "      <td>NaN</td>\n",
              "      <td>131.0</td>\n",
              "      <td>NaN</td>\n",
              "      <td>Rob Walker</td>\n",
              "      <td>131.0</td>\n",
              "      <td>NaN</td>\n",
              "      <td>Documentary</td>\n",
              "      <td>...</td>\n",
              "      <td>NaN</td>\n",
              "      <td>NaN</td>\n",
              "      <td>NaN</td>\n",
              "      <td>NaN</td>\n",
              "      <td>NaN</td>\n",
              "      <td>NaN</td>\n",
              "      <td>12.0</td>\n",
              "      <td>7.1</td>\n",
              "      <td>NaN</td>\n",
              "      <td>0</td>\n",
              "    </tr>\n",
              "  </tbody>\n",
              "</table>\n",
              "<p>5 rows × 28 columns</p>\n",
              "</div>"
            ],
            "text/plain": [
              "   color      director_name  num_critic_for_reviews  duration  \\\n",
              "0  Color      James Cameron                   723.0     178.0   \n",
              "1  Color     Gore Verbinski                   302.0     169.0   \n",
              "2  Color         Sam Mendes                   602.0     148.0   \n",
              "3  Color  Christopher Nolan                   813.0     164.0   \n",
              "4    NaN        Doug Walker                     NaN       NaN   \n",
              "\n",
              "   director_facebook_likes  actor_3_facebook_likes      actor_2_name  \\\n",
              "0                      0.0                   855.0  Joel David Moore   \n",
              "1                    563.0                  1000.0     Orlando Bloom   \n",
              "2                      0.0                   161.0      Rory Kinnear   \n",
              "3                  22000.0                 23000.0    Christian Bale   \n",
              "4                    131.0                     NaN        Rob Walker   \n",
              "\n",
              "   actor_1_facebook_likes        gross                           genres  \\\n",
              "0                  1000.0  760505847.0  Action|Adventure|Fantasy|Sci-Fi   \n",
              "1                 40000.0  309404152.0         Action|Adventure|Fantasy   \n",
              "2                 11000.0  200074175.0        Action|Adventure|Thriller   \n",
              "3                 27000.0  448130642.0                  Action|Thriller   \n",
              "4                   131.0          NaN                      Documentary   \n",
              "\n",
              "          ...          num_user_for_reviews language  country  content_rating  \\\n",
              "0         ...                        3054.0  English      USA           PG-13   \n",
              "1         ...                        1238.0  English      USA           PG-13   \n",
              "2         ...                         994.0  English       UK           PG-13   \n",
              "3         ...                        2701.0  English      USA           PG-13   \n",
              "4         ...                           NaN      NaN      NaN             NaN   \n",
              "\n",
              "        budget  title_year actor_2_facebook_likes imdb_score  aspect_ratio  \\\n",
              "0  237000000.0      2009.0                  936.0        7.9          1.78   \n",
              "1  300000000.0      2007.0                 5000.0        7.1          2.35   \n",
              "2  245000000.0      2015.0                  393.0        6.8          2.35   \n",
              "3  250000000.0      2012.0                23000.0        8.5          2.35   \n",
              "4          NaN         NaN                   12.0        7.1           NaN   \n",
              "\n",
              "  movie_facebook_likes  \n",
              "0                33000  \n",
              "1                    0  \n",
              "2                85000  \n",
              "3               164000  \n",
              "4                    0  \n",
              "\n",
              "[5 rows x 28 columns]"
            ]
          },
          "metadata": {
            "tags": []
          },
          "execution_count": 3
        }
      ]
    },
    {
      "metadata": {
        "id": "evgEYeM4NJ9k",
        "colab_type": "code",
        "outputId": "21e2608c-e3ee-4536-a1e3-184c56c13d9d",
        "colab": {
          "base_uri": "https://localhost:8080/",
          "height": 34
        }
      },
      "cell_type": "code",
      "source": [
        "metadata.shape"
      ],
      "execution_count": 4,
      "outputs": [
        {
          "output_type": "execute_result",
          "data": {
            "text/plain": [
              "(5043, 28)"
            ]
          },
          "metadata": {
            "tags": []
          },
          "execution_count": 4
        }
      ]
    },
    {
      "metadata": {
        "id": "jv9BOsurNJ9z",
        "colab_type": "code",
        "outputId": "bf2e5a06-4c6e-436b-c002-21c59926cad5",
        "colab": {
          "base_uri": "https://localhost:8080/",
          "height": 173
        }
      },
      "cell_type": "code",
      "source": [
        "metadata.columns"
      ],
      "execution_count": 5,
      "outputs": [
        {
          "output_type": "execute_result",
          "data": {
            "text/plain": [
              "Index(['color', 'director_name', 'num_critic_for_reviews', 'duration',\n",
              "       'director_facebook_likes', 'actor_3_facebook_likes', 'actor_2_name',\n",
              "       'actor_1_facebook_likes', 'gross', 'genres', 'actor_1_name',\n",
              "       'movie_title', 'num_voted_users', 'cast_total_facebook_likes',\n",
              "       'actor_3_name', 'facenumber_in_poster', 'plot_keywords',\n",
              "       'movie_imdb_link', 'num_user_for_reviews', 'language', 'country',\n",
              "       'content_rating', 'budget', 'title_year', 'actor_2_facebook_likes',\n",
              "       'imdb_score', 'aspect_ratio', 'movie_facebook_likes'],\n",
              "      dtype='object')"
            ]
          },
          "metadata": {
            "tags": []
          },
          "execution_count": 5
        }
      ]
    },
    {
      "metadata": {
        "id": "wMGPWXm2Grc9",
        "colab_type": "text"
      },
      "cell_type": "markdown",
      "source": [
        "## Data preprocessing"
      ]
    },
    {
      "metadata": {
        "id": "ZmVdtc_sqWSs",
        "colab_type": "code",
        "colab": {
          "base_uri": "https://localhost:8080/",
          "height": 34
        },
        "outputId": "ead2088a-c643-47d1-97fd-2c9b899ddebb"
      },
      "cell_type": "code",
      "source": [
        "print('Number of duplicate rows:', len(metadata) - len(metadata.drop_duplicates()))"
      ],
      "execution_count": 6,
      "outputs": [
        {
          "output_type": "stream",
          "text": [
            "Number of duplicate rows: 45\n"
          ],
          "name": "stdout"
        }
      ]
    },
    {
      "metadata": {
        "id": "nFFIQZPsqeMY",
        "colab_type": "code",
        "colab": {}
      },
      "cell_type": "code",
      "source": [
        "metadata = metadata.drop_duplicates() #deleting duplicated rows"
      ],
      "execution_count": 0,
      "outputs": []
    },
    {
      "metadata": {
        "id": "-Rt__vxRNJ9_",
        "colab_type": "code",
        "outputId": "5cdf1f9a-14de-4c99-8a9c-ff69acfafdf0",
        "colab": {
          "base_uri": "https://localhost:8080/",
          "height": 34
        }
      },
      "cell_type": "code",
      "source": [
        "# deleting documentaries, for this we are only interested in mainstream movies\n",
        "metadata = metadata[~metadata['genres'].str.contains(\"Documentary\")]\n",
        "metadata.shape"
      ],
      "execution_count": 8,
      "outputs": [
        {
          "output_type": "execute_result",
          "data": {
            "text/plain": [
              "(4877, 28)"
            ]
          },
          "metadata": {
            "tags": []
          },
          "execution_count": 8
        }
      ]
    },
    {
      "metadata": {
        "id": "HwYH0P9pqvsm",
        "colab_type": "code",
        "colab": {
          "base_uri": "https://localhost:8080/",
          "height": 243
        },
        "outputId": "58507a75-534e-4c57-f6ed-a027f8dabea0"
      },
      "cell_type": "code",
      "source": [
        "# number of unique values in categorical columns\n",
        "metadata.select_dtypes(object).apply(lambda x: len(x.unique()))"
      ],
      "execution_count": 9,
      "outputs": [
        {
          "output_type": "execute_result",
          "data": {
            "text/plain": [
              "color                 3\n",
              "director_name      2315\n",
              "actor_2_name       2933\n",
              "genres              876\n",
              "actor_1_name       2007\n",
              "movie_title        4796\n",
              "actor_3_name       3424\n",
              "plot_keywords      4657\n",
              "movie_imdb_link    4798\n",
              "language             48\n",
              "country              63\n",
              "content_rating       19\n",
              "dtype: int64"
            ]
          },
          "metadata": {
            "tags": []
          },
          "execution_count": 9
        }
      ]
    },
    {
      "metadata": {
        "id": "ySg1ZTlcrSxG",
        "colab_type": "code",
        "colab": {
          "base_uri": "https://localhost:8080/",
          "height": 34
        },
        "outputId": "32394ecd-7e04-4083-ba27-03618e4d1e42"
      },
      "cell_type": "code",
      "source": [
        "# dropping irrelevant columns\n",
        "columns = ['director_facebook_likes', 'actor_3_facebook_likes', 'actor_1_facebook_likes', 'cast_total_facebook_likes', 'facenumber_in_poster', 'actor_2_facebook_likes', 'movie_facebook_likes']\n",
        "metadata = metadata.drop(columns, 1)\n",
        "metadata.shape"
      ],
      "execution_count": 10,
      "outputs": [
        {
          "output_type": "execute_result",
          "data": {
            "text/plain": [
              "(4877, 21)"
            ]
          },
          "metadata": {
            "tags": []
          },
          "execution_count": 10
        }
      ]
    },
    {
      "metadata": {
        "id": "cwVv082jrTQu",
        "colab_type": "code",
        "colab": {
          "base_uri": "https://localhost:8080/",
          "height": 206
        },
        "outputId": "c4fac5ff-f3ba-487a-90fa-de914ebdbc4b"
      },
      "cell_type": "code",
      "source": [
        "quantitative_columns = metadata.select_dtypes([int, float]).columns\n",
        "categorical_columns = ['color', 'language', 'country', 'content_rating']\n",
        "numeric = metadata[quantitative_columns].copy()\n",
        "numeric.head() # setting up an only numeric-data dataset"
      ],
      "execution_count": 11,
      "outputs": [
        {
          "output_type": "execute_result",
          "data": {
            "text/html": [
              "<div>\n",
              "<style scoped>\n",
              "    .dataframe tbody tr th:only-of-type {\n",
              "        vertical-align: middle;\n",
              "    }\n",
              "\n",
              "    .dataframe tbody tr th {\n",
              "        vertical-align: top;\n",
              "    }\n",
              "\n",
              "    .dataframe thead th {\n",
              "        text-align: right;\n",
              "    }\n",
              "</style>\n",
              "<table border=\"1\" class=\"dataframe\">\n",
              "  <thead>\n",
              "    <tr style=\"text-align: right;\">\n",
              "      <th></th>\n",
              "      <th>num_critic_for_reviews</th>\n",
              "      <th>duration</th>\n",
              "      <th>gross</th>\n",
              "      <th>num_voted_users</th>\n",
              "      <th>num_user_for_reviews</th>\n",
              "      <th>budget</th>\n",
              "      <th>title_year</th>\n",
              "      <th>imdb_score</th>\n",
              "      <th>aspect_ratio</th>\n",
              "    </tr>\n",
              "  </thead>\n",
              "  <tbody>\n",
              "    <tr>\n",
              "      <th>0</th>\n",
              "      <td>723.0</td>\n",
              "      <td>178.0</td>\n",
              "      <td>760505847.0</td>\n",
              "      <td>886204</td>\n",
              "      <td>3054.0</td>\n",
              "      <td>237000000.0</td>\n",
              "      <td>2009.0</td>\n",
              "      <td>7.9</td>\n",
              "      <td>1.78</td>\n",
              "    </tr>\n",
              "    <tr>\n",
              "      <th>1</th>\n",
              "      <td>302.0</td>\n",
              "      <td>169.0</td>\n",
              "      <td>309404152.0</td>\n",
              "      <td>471220</td>\n",
              "      <td>1238.0</td>\n",
              "      <td>300000000.0</td>\n",
              "      <td>2007.0</td>\n",
              "      <td>7.1</td>\n",
              "      <td>2.35</td>\n",
              "    </tr>\n",
              "    <tr>\n",
              "      <th>2</th>\n",
              "      <td>602.0</td>\n",
              "      <td>148.0</td>\n",
              "      <td>200074175.0</td>\n",
              "      <td>275868</td>\n",
              "      <td>994.0</td>\n",
              "      <td>245000000.0</td>\n",
              "      <td>2015.0</td>\n",
              "      <td>6.8</td>\n",
              "      <td>2.35</td>\n",
              "    </tr>\n",
              "    <tr>\n",
              "      <th>3</th>\n",
              "      <td>813.0</td>\n",
              "      <td>164.0</td>\n",
              "      <td>448130642.0</td>\n",
              "      <td>1144337</td>\n",
              "      <td>2701.0</td>\n",
              "      <td>250000000.0</td>\n",
              "      <td>2012.0</td>\n",
              "      <td>8.5</td>\n",
              "      <td>2.35</td>\n",
              "    </tr>\n",
              "    <tr>\n",
              "      <th>5</th>\n",
              "      <td>462.0</td>\n",
              "      <td>132.0</td>\n",
              "      <td>73058679.0</td>\n",
              "      <td>212204</td>\n",
              "      <td>738.0</td>\n",
              "      <td>263700000.0</td>\n",
              "      <td>2012.0</td>\n",
              "      <td>6.6</td>\n",
              "      <td>2.35</td>\n",
              "    </tr>\n",
              "  </tbody>\n",
              "</table>\n",
              "</div>"
            ],
            "text/plain": [
              "   num_critic_for_reviews  duration        gross  num_voted_users  \\\n",
              "0                   723.0     178.0  760505847.0           886204   \n",
              "1                   302.0     169.0  309404152.0           471220   \n",
              "2                   602.0     148.0  200074175.0           275868   \n",
              "3                   813.0     164.0  448130642.0          1144337   \n",
              "5                   462.0     132.0   73058679.0           212204   \n",
              "\n",
              "   num_user_for_reviews       budget  title_year  imdb_score  aspect_ratio  \n",
              "0                3054.0  237000000.0      2009.0         7.9          1.78  \n",
              "1                1238.0  300000000.0      2007.0         7.1          2.35  \n",
              "2                 994.0  245000000.0      2015.0         6.8          2.35  \n",
              "3                2701.0  250000000.0      2012.0         8.5          2.35  \n",
              "5                 738.0  263700000.0      2012.0         6.6          2.35  "
            ]
          },
          "metadata": {
            "tags": []
          },
          "execution_count": 11
        }
      ]
    },
    {
      "metadata": {
        "id": "QP78cYqRG7zE",
        "colab_type": "text"
      },
      "cell_type": "markdown",
      "source": [
        "## Exploring the dataset"
      ]
    },
    {
      "metadata": {
        "id": "DLHA_Ub0rTtM",
        "colab_type": "code",
        "colab": {
          "base_uri": "https://localhost:8080/",
          "height": 226
        },
        "outputId": "3be864ea-9d18-4d94-b172-7737c3bd5d3e"
      },
      "cell_type": "code",
      "source": [
        "# encoding categorical columns with numbers\n",
        "le = LabelEncoder()\n",
        "\n",
        "for col in categorical_columns:\n",
        "  column = metadata[col].apply(str)\n",
        "  numeric[col] = le.fit_transform(column)\n",
        "  \n",
        "numeric.head()"
      ],
      "execution_count": 12,
      "outputs": [
        {
          "output_type": "execute_result",
          "data": {
            "text/html": [
              "<div>\n",
              "<style scoped>\n",
              "    .dataframe tbody tr th:only-of-type {\n",
              "        vertical-align: middle;\n",
              "    }\n",
              "\n",
              "    .dataframe tbody tr th {\n",
              "        vertical-align: top;\n",
              "    }\n",
              "\n",
              "    .dataframe thead th {\n",
              "        text-align: right;\n",
              "    }\n",
              "</style>\n",
              "<table border=\"1\" class=\"dataframe\">\n",
              "  <thead>\n",
              "    <tr style=\"text-align: right;\">\n",
              "      <th></th>\n",
              "      <th>num_critic_for_reviews</th>\n",
              "      <th>duration</th>\n",
              "      <th>gross</th>\n",
              "      <th>num_voted_users</th>\n",
              "      <th>num_user_for_reviews</th>\n",
              "      <th>budget</th>\n",
              "      <th>title_year</th>\n",
              "      <th>imdb_score</th>\n",
              "      <th>aspect_ratio</th>\n",
              "      <th>color</th>\n",
              "      <th>language</th>\n",
              "      <th>country</th>\n",
              "      <th>content_rating</th>\n",
              "    </tr>\n",
              "  </thead>\n",
              "  <tbody>\n",
              "    <tr>\n",
              "      <th>0</th>\n",
              "      <td>723.0</td>\n",
              "      <td>178.0</td>\n",
              "      <td>760505847.0</td>\n",
              "      <td>886204</td>\n",
              "      <td>3054.0</td>\n",
              "      <td>237000000.0</td>\n",
              "      <td>2009.0</td>\n",
              "      <td>7.9</td>\n",
              "      <td>1.78</td>\n",
              "      <td>1</td>\n",
              "      <td>11</td>\n",
              "      <td>60</td>\n",
              "      <td>7</td>\n",
              "    </tr>\n",
              "    <tr>\n",
              "      <th>1</th>\n",
              "      <td>302.0</td>\n",
              "      <td>169.0</td>\n",
              "      <td>309404152.0</td>\n",
              "      <td>471220</td>\n",
              "      <td>1238.0</td>\n",
              "      <td>300000000.0</td>\n",
              "      <td>2007.0</td>\n",
              "      <td>7.1</td>\n",
              "      <td>2.35</td>\n",
              "      <td>1</td>\n",
              "      <td>11</td>\n",
              "      <td>60</td>\n",
              "      <td>7</td>\n",
              "    </tr>\n",
              "    <tr>\n",
              "      <th>2</th>\n",
              "      <td>602.0</td>\n",
              "      <td>148.0</td>\n",
              "      <td>200074175.0</td>\n",
              "      <td>275868</td>\n",
              "      <td>994.0</td>\n",
              "      <td>245000000.0</td>\n",
              "      <td>2015.0</td>\n",
              "      <td>6.8</td>\n",
              "      <td>2.35</td>\n",
              "      <td>1</td>\n",
              "      <td>11</td>\n",
              "      <td>59</td>\n",
              "      <td>7</td>\n",
              "    </tr>\n",
              "    <tr>\n",
              "      <th>3</th>\n",
              "      <td>813.0</td>\n",
              "      <td>164.0</td>\n",
              "      <td>448130642.0</td>\n",
              "      <td>1144337</td>\n",
              "      <td>2701.0</td>\n",
              "      <td>250000000.0</td>\n",
              "      <td>2012.0</td>\n",
              "      <td>8.5</td>\n",
              "      <td>2.35</td>\n",
              "      <td>1</td>\n",
              "      <td>11</td>\n",
              "      <td>60</td>\n",
              "      <td>7</td>\n",
              "    </tr>\n",
              "    <tr>\n",
              "      <th>5</th>\n",
              "      <td>462.0</td>\n",
              "      <td>132.0</td>\n",
              "      <td>73058679.0</td>\n",
              "      <td>212204</td>\n",
              "      <td>738.0</td>\n",
              "      <td>263700000.0</td>\n",
              "      <td>2012.0</td>\n",
              "      <td>6.6</td>\n",
              "      <td>2.35</td>\n",
              "      <td>1</td>\n",
              "      <td>11</td>\n",
              "      <td>60</td>\n",
              "      <td>7</td>\n",
              "    </tr>\n",
              "  </tbody>\n",
              "</table>\n",
              "</div>"
            ],
            "text/plain": [
              "   num_critic_for_reviews  duration        gross  num_voted_users  \\\n",
              "0                   723.0     178.0  760505847.0           886204   \n",
              "1                   302.0     169.0  309404152.0           471220   \n",
              "2                   602.0     148.0  200074175.0           275868   \n",
              "3                   813.0     164.0  448130642.0          1144337   \n",
              "5                   462.0     132.0   73058679.0           212204   \n",
              "\n",
              "   num_user_for_reviews       budget  title_year  imdb_score  aspect_ratio  \\\n",
              "0                3054.0  237000000.0      2009.0         7.9          1.78   \n",
              "1                1238.0  300000000.0      2007.0         7.1          2.35   \n",
              "2                 994.0  245000000.0      2015.0         6.8          2.35   \n",
              "3                2701.0  250000000.0      2012.0         8.5          2.35   \n",
              "5                 738.0  263700000.0      2012.0         6.6          2.35   \n",
              "\n",
              "   color  language  country  content_rating  \n",
              "0      1        11       60               7  \n",
              "1      1        11       60               7  \n",
              "2      1        11       59               7  \n",
              "3      1        11       60               7  \n",
              "5      1        11       60               7  "
            ]
          },
          "metadata": {
            "tags": []
          },
          "execution_count": 12
        }
      ]
    },
    {
      "metadata": {
        "id": "aO2x3ZhuKkdR",
        "colab_type": "text"
      },
      "cell_type": "markdown",
      "source": [
        "### Analysing correlation between columns:"
      ]
    },
    {
      "metadata": {
        "id": "pSLFa-8GtksK",
        "colab_type": "code",
        "colab": {
          "base_uri": "https://localhost:8080/",
          "height": 260
        },
        "outputId": "876d9496-89da-4b72-d355-d94378db9cb6"
      },
      "cell_type": "code",
      "source": [
        "numeric.corr()['imdb_score'].sort_values(ascending=False)"
      ],
      "execution_count": 13,
      "outputs": [
        {
          "output_type": "execute_result",
          "data": {
            "text/plain": [
              "imdb_score                1.000000\n",
              "num_voted_users           0.428068\n",
              "num_critic_for_reviews    0.321266\n",
              "num_user_for_reviews      0.306853\n",
              "duration                  0.278292\n",
              "gross                     0.212285\n",
              "language                  0.097078\n",
              "aspect_ratio              0.060018\n",
              "budget                    0.033798\n",
              "content_rating            0.015942\n",
              "country                  -0.034273\n",
              "color                    -0.147738\n",
              "title_year               -0.218100\n",
              "Name: imdb_score, dtype: float64"
            ]
          },
          "metadata": {
            "tags": []
          },
          "execution_count": 13
        }
      ]
    },
    {
      "metadata": {
        "id": "fWMRCco2uRJ8",
        "colab_type": "code",
        "colab": {
          "base_uri": "https://localhost:8080/",
          "height": 260
        },
        "outputId": "40cac784-d406-476d-80d3-78d0a6473947"
      },
      "cell_type": "code",
      "source": [
        "numeric.corr()['imdb_score'].abs().sort_values(ascending=False)"
      ],
      "execution_count": 14,
      "outputs": [
        {
          "output_type": "execute_result",
          "data": {
            "text/plain": [
              "imdb_score                1.000000\n",
              "num_voted_users           0.428068\n",
              "num_critic_for_reviews    0.321266\n",
              "num_user_for_reviews      0.306853\n",
              "duration                  0.278292\n",
              "title_year                0.218100\n",
              "gross                     0.212285\n",
              "color                     0.147738\n",
              "language                  0.097078\n",
              "aspect_ratio              0.060018\n",
              "country                   0.034273\n",
              "budget                    0.033798\n",
              "content_rating            0.015942\n",
              "Name: imdb_score, dtype: float64"
            ]
          },
          "metadata": {
            "tags": []
          },
          "execution_count": 14
        }
      ]
    },
    {
      "metadata": {
        "id": "xEiJT9q0txQ9",
        "colab_type": "code",
        "colab": {
          "base_uri": "https://localhost:8080/",
          "height": 260
        },
        "outputId": "d8d6fa8f-7fe8-40a9-9d3c-16442d448c7a"
      },
      "cell_type": "code",
      "source": [
        "numeric.corr()['gross'].sort_values(ascending=False)"
      ],
      "execution_count": 15,
      "outputs": [
        {
          "output_type": "execute_result",
          "data": {
            "text/plain": [
              "gross                     1.000000\n",
              "num_voted_users           0.633072\n",
              "num_user_for_reviews      0.558382\n",
              "num_critic_for_reviews    0.474367\n",
              "duration                  0.244351\n",
              "imdb_score                0.212285\n",
              "country                   0.153554\n",
              "budget                    0.099664\n",
              "aspect_ratio              0.092776\n",
              "color                     0.040281\n",
              "title_year                0.033293\n",
              "language                 -0.102913\n",
              "content_rating           -0.232946\n",
              "Name: gross, dtype: float64"
            ]
          },
          "metadata": {
            "tags": []
          },
          "execution_count": 15
        }
      ]
    },
    {
      "metadata": {
        "id": "8kUU8iCiuWgu",
        "colab_type": "code",
        "colab": {
          "base_uri": "https://localhost:8080/",
          "height": 260
        },
        "outputId": "b4dae58b-ef0b-4fe5-f1a8-a75ab5c5dc34"
      },
      "cell_type": "code",
      "source": [
        "numeric.corr()['gross'].abs().sort_values(ascending=False)"
      ],
      "execution_count": 16,
      "outputs": [
        {
          "output_type": "execute_result",
          "data": {
            "text/plain": [
              "gross                     1.000000\n",
              "num_voted_users           0.633072\n",
              "num_user_for_reviews      0.558382\n",
              "num_critic_for_reviews    0.474367\n",
              "duration                  0.244351\n",
              "content_rating            0.232946\n",
              "imdb_score                0.212285\n",
              "country                   0.153554\n",
              "language                  0.102913\n",
              "budget                    0.099664\n",
              "aspect_ratio              0.092776\n",
              "color                     0.040281\n",
              "title_year                0.033293\n",
              "Name: gross, dtype: float64"
            ]
          },
          "metadata": {
            "tags": []
          },
          "execution_count": 16
        }
      ]
    },
    {
      "metadata": {
        "id": "QD3jzyaMKztz",
        "colab_type": "text"
      },
      "cell_type": "markdown",
      "source": [
        "### Visualising correlations"
      ]
    },
    {
      "metadata": {
        "id": "uVnnj3v9u02-",
        "colab_type": "code",
        "colab": {
          "base_uri": "https://localhost:8080/",
          "height": 238
        },
        "outputId": "a8280b73-312b-4dfd-fe8e-fbb15581ec68"
      },
      "cell_type": "code",
      "source": [
        "grouped = numeric[['title_year', 'imdb_score']].groupby('title_year')\n",
        "\n",
        "scores_by_years = pd.concat([\n",
        "    grouped.mean(),\n",
        "    grouped.min(),\n",
        "    grouped.max(),\n",
        "    grouped.count()\n",
        "], axis=1)\n",
        "\n",
        "scores_by_years.columns = ['Average', 'Min', 'Max', 'Count']\n",
        "scores_by_years.head()"
      ],
      "execution_count": 17,
      "outputs": [
        {
          "output_type": "execute_result",
          "data": {
            "text/html": [
              "<div>\n",
              "<style scoped>\n",
              "    .dataframe tbody tr th:only-of-type {\n",
              "        vertical-align: middle;\n",
              "    }\n",
              "\n",
              "    .dataframe tbody tr th {\n",
              "        vertical-align: top;\n",
              "    }\n",
              "\n",
              "    .dataframe thead th {\n",
              "        text-align: right;\n",
              "    }\n",
              "</style>\n",
              "<table border=\"1\" class=\"dataframe\">\n",
              "  <thead>\n",
              "    <tr style=\"text-align: right;\">\n",
              "      <th></th>\n",
              "      <th>Average</th>\n",
              "      <th>Min</th>\n",
              "      <th>Max</th>\n",
              "      <th>Count</th>\n",
              "    </tr>\n",
              "    <tr>\n",
              "      <th>title_year</th>\n",
              "      <th></th>\n",
              "      <th></th>\n",
              "      <th></th>\n",
              "      <th></th>\n",
              "    </tr>\n",
              "  </thead>\n",
              "  <tbody>\n",
              "    <tr>\n",
              "      <th>1916.0</th>\n",
              "      <td>8.00</td>\n",
              "      <td>8.0</td>\n",
              "      <td>8.0</td>\n",
              "      <td>1</td>\n",
              "    </tr>\n",
              "    <tr>\n",
              "      <th>1920.0</th>\n",
              "      <td>4.80</td>\n",
              "      <td>4.8</td>\n",
              "      <td>4.8</td>\n",
              "      <td>1</td>\n",
              "    </tr>\n",
              "    <tr>\n",
              "      <th>1925.0</th>\n",
              "      <td>8.30</td>\n",
              "      <td>8.3</td>\n",
              "      <td>8.3</td>\n",
              "      <td>1</td>\n",
              "    </tr>\n",
              "    <tr>\n",
              "      <th>1927.0</th>\n",
              "      <td>8.30</td>\n",
              "      <td>8.3</td>\n",
              "      <td>8.3</td>\n",
              "      <td>1</td>\n",
              "    </tr>\n",
              "    <tr>\n",
              "      <th>1929.0</th>\n",
              "      <td>7.15</td>\n",
              "      <td>6.3</td>\n",
              "      <td>8.0</td>\n",
              "      <td>2</td>\n",
              "    </tr>\n",
              "  </tbody>\n",
              "</table>\n",
              "</div>"
            ],
            "text/plain": [
              "            Average  Min  Max  Count\n",
              "title_year                          \n",
              "1916.0         8.00  8.0  8.0      1\n",
              "1920.0         4.80  4.8  4.8      1\n",
              "1925.0         8.30  8.3  8.3      1\n",
              "1927.0         8.30  8.3  8.3      1\n",
              "1929.0         7.15  6.3  8.0      2"
            ]
          },
          "metadata": {
            "tags": []
          },
          "execution_count": 17
        }
      ]
    },
    {
      "metadata": {
        "id": "aiscmEP6LV2-",
        "colab_type": "text"
      },
      "cell_type": "markdown",
      "source": [
        "** The range between best and worst scores over the years only increases:**"
      ]
    },
    {
      "metadata": {
        "id": "9ULPqPECu_DK",
        "colab_type": "code",
        "colab": {
          "base_uri": "https://localhost:8080/",
          "height": 361
        },
        "outputId": "f3a1fc05-7944-48fe-f7ae-2e1a0ee86946"
      },
      "cell_type": "code",
      "source": [
        "years = scores_by_years.index\n",
        "avg_scores = scores_by_years['Average']\n",
        "min_scores = scores_by_years['Min']\n",
        "max_scores = scores_by_years['Max']\n",
        "num_movies = scores_by_years['Count']\n",
        "\n",
        "plt.plot(years, min_scores)\n",
        "plt.plot(years, avg_scores)\n",
        "plt.plot(years, max_scores)\n",
        "plt.xlabel('Year')\n",
        "plt.ylabel('IMDB score')\n",
        "plt.legend()\n",
        "plt.show()"
      ],
      "execution_count": 18,
      "outputs": [
        {
          "output_type": "display_data",
          "data": {
            "image/png": "[encoded data removed]",
            "text/plain": [
              "<matplotlib.figure.Figure at 0x7f7d683fd208>"
            ]
          },
          "metadata": {
            "tags": []
          }
        }
      ]
    },
    {
      "metadata": {
        "id": "4CJWrkuYLov_",
        "colab_type": "text"
      },
      "cell_type": "markdown",
      "source": [
        "**Which can be explained by the increasing number of movies over years:**"
      ]
    },
    {
      "metadata": {
        "id": "T2jxZztwvIor",
        "colab_type": "code",
        "colab": {
          "base_uri": "https://localhost:8080/",
          "height": 361
        },
        "outputId": "1155369d-1716-4aa1-b4f1-943e922e5819"
      },
      "cell_type": "code",
      "source": [
        "plt.plot(years, num_movies, color='purple')\n",
        "plt.xlabel('Year')\n",
        "plt.ylabel('Number of movies')\n",
        "plt.show()"
      ],
      "execution_count": 19,
      "outputs": [
        {
          "output_type": "display_data",
          "data": {
            "image/png": "[encoded data removed]",
            "text/plain": [
              "<matplotlib.figure.Figure at 0x7f7d683b6550>"
            ]
          },
          "metadata": {
            "tags": []
          }
        }
      ]
    },
    {
      "metadata": {
        "id": "Uq86QHfeHTs_",
        "colab_type": "text"
      },
      "cell_type": "markdown",
      "source": [
        "## Determining successful/unsuccessful characteristics"
      ]
    },
    {
      "metadata": {
        "id": "xCbv_qTuNJ-W",
        "colab_type": "code",
        "outputId": "94d0e2c5-6ce1-4a30-b944-bf8f93e1e88b",
        "colab": {
          "base_uri": "https://localhost:8080/",
          "height": 121
        }
      },
      "cell_type": "code",
      "source": [
        "metadata.columns"
      ],
      "execution_count": 20,
      "outputs": [
        {
          "output_type": "execute_result",
          "data": {
            "text/plain": [
              "Index(['color', 'director_name', 'num_critic_for_reviews', 'duration',\n",
              "       'actor_2_name', 'gross', 'genres', 'actor_1_name', 'movie_title',\n",
              "       'num_voted_users', 'actor_3_name', 'plot_keywords', 'movie_imdb_link',\n",
              "       'num_user_for_reviews', 'language', 'country', 'content_rating',\n",
              "       'budget', 'title_year', 'imdb_score', 'aspect_ratio'],\n",
              "      dtype='object')"
            ]
          },
          "metadata": {
            "tags": []
          },
          "execution_count": 20
        }
      ]
    },
    {
      "metadata": {
        "id": "3qaxr70bNJ-n",
        "colab_type": "code",
        "outputId": "74992a2d-28ab-4869-ce34-887ebb1b7eae",
        "colab": {
          "base_uri": "https://localhost:8080/",
          "height": 208
        }
      },
      "cell_type": "code",
      "source": [
        "metadata['title_year'].unique()"
      ],
      "execution_count": 21,
      "outputs": [
        {
          "output_type": "execute_result",
          "data": {
            "text/plain": [
              "array([2009., 2007., 2015., 2012., 2010., 2016., 2006., 2008., 2013.,\n",
              "       2011., 2014., 2005., 1997., 2004., 1999., 1995., 2003., 2001.,\n",
              "       2002., 1998.,   nan, 2000., 1990., 1991., 1994., 1996., 1982.,\n",
              "       1993., 1979., 1992., 1989., 1984., 1988., 1978., 1962., 1980.,\n",
              "       1972., 1981., 1968., 1985., 1940., 1963., 1987., 1986., 1973.,\n",
              "       1983., 1976., 1977., 1970., 1971., 1969., 1960., 1965., 1964.,\n",
              "       1927., 1974., 1937., 1975., 1967., 1951., 1961., 1946., 1953.,\n",
              "       1954., 1959., 1932., 1947., 1956., 1945., 1952., 1930., 1966.,\n",
              "       1939., 1950., 1948., 1958., 1957., 1943., 1944., 1938., 1949.,\n",
              "       1936., 1941., 1955., 1942., 1929., 1935., 1933., 1916., 1934.,\n",
              "       1925., 1920.])"
            ]
          },
          "metadata": {
            "tags": []
          },
          "execution_count": 21
        }
      ]
    },
    {
      "metadata": {
        "id": "OOAqSjoJNJ-3",
        "colab_type": "code",
        "outputId": "c1895a07-d618-461b-af54-db9e46d71c1f",
        "colab": {
          "base_uri": "https://localhost:8080/",
          "height": 34
        }
      },
      "cell_type": "code",
      "source": [
        "# cleaning up\n",
        "metadata = metadata.drop(metadata[metadata['title_year'].astype(str)=='nan'].index)\n",
        "metadata.shape"
      ],
      "execution_count": 22,
      "outputs": [
        {
          "output_type": "execute_result",
          "data": {
            "text/plain": [
              "(4772, 21)"
            ]
          },
          "metadata": {
            "tags": []
          },
          "execution_count": 22
        }
      ]
    },
    {
      "metadata": {
        "id": "YTmVoi9KL5a7",
        "colab_type": "text"
      },
      "cell_type": "markdown",
      "source": [
        "**Only taking films from the last 50 years (1968-2018):**"
      ]
    },
    {
      "metadata": {
        "id": "mZmlVb11NJ_R",
        "colab_type": "code",
        "colab": {
          "base_uri": "https://localhost:8080/",
          "height": 34
        },
        "outputId": "99bbd130-7762-4244-f86f-bfeb7099e626"
      },
      "cell_type": "code",
      "source": [
        "metadata = metadata[metadata['title_year'].astype(int) >= 1968]\n",
        "metadata.shape"
      ],
      "execution_count": 23,
      "outputs": [
        {
          "output_type": "execute_result",
          "data": {
            "text/plain": [
              "(4646, 21)"
            ]
          },
          "metadata": {
            "tags": []
          },
          "execution_count": 23
        }
      ]
    },
    {
      "metadata": {
        "id": "3oFklbr6MCC_",
        "colab_type": "text"
      },
      "cell_type": "markdown",
      "source": [
        "**Successful films: score >= 6.4 AND gross > 30000000 AND gross > budget (actually earned money):**"
      ]
    },
    {
      "metadata": {
        "id": "vRsmNbq0NJ_v",
        "colab_type": "code",
        "outputId": "ebaf3bf7-41b8-4dd0-fa04-66d98632de54",
        "colab": {
          "base_uri": "https://localhost:8080/",
          "height": 34
        }
      },
      "cell_type": "code",
      "source": [
        "highscore = metadata[metadata['imdb_score'].astype(float) >= 6.4]\n",
        "highscore.shape\n",
        "boxofficehit = highscore[highscore['gross'].astype(float) > 30000000.0]\n",
        "boxofficehit.shape\n",
        "successful = boxofficehit[boxofficehit['gross'].astype(float) > boxofficehit['budget'].astype(float)]\n",
        "successful.shape"
      ],
      "execution_count": 24,
      "outputs": [
        {
          "output_type": "execute_result",
          "data": {
            "text/plain": [
              "(948, 21)"
            ]
          },
          "metadata": {
            "tags": []
          },
          "execution_count": 24
        }
      ]
    },
    {
      "metadata": {
        "id": "Ur9_daATMWxv",
        "colab_type": "text"
      },
      "cell_type": "markdown",
      "source": [
        "**Unsuccessful films: score < 6.4 AND gross < budget:**"
      ]
    },
    {
      "metadata": {
        "id": "GSmU53FINJ_5",
        "colab_type": "code",
        "outputId": "1293203e-c1e6-4977-8234-82a45807682d",
        "colab": {
          "base_uri": "https://localhost:8080/",
          "height": 34
        }
      },
      "cell_type": "code",
      "source": [
        "lowscore = metadata[metadata['imdb_score'].astype(float) < 6.4]\n",
        "lowscore.shape\n",
        "unsuccessful = lowscore[lowscore['gross'].astype(float) <= lowscore['budget'].astype(float)]\n",
        "unsuccessful.shape"
      ],
      "execution_count": 25,
      "outputs": [
        {
          "output_type": "execute_result",
          "data": {
            "text/plain": [
              "(899, 21)"
            ]
          },
          "metadata": {
            "tags": []
          },
          "execution_count": 25
        }
      ]
    },
    {
      "metadata": {
        "id": "y1h54G6CNKAE",
        "colab_type": "code",
        "outputId": "79910f33-9c40-4322-b407-c62660b0b062",
        "colab": {
          "base_uri": "https://localhost:8080/",
          "height": 481
        }
      },
      "cell_type": "code",
      "source": [
        "successful.head()"
      ],
      "execution_count": 26,
      "outputs": [
        {
          "output_type": "execute_result",
          "data": {
            "text/html": [
              "<div>\n",
              "<style scoped>\n",
              "    .dataframe tbody tr th:only-of-type {\n",
              "        vertical-align: middle;\n",
              "    }\n",
              "\n",
              "    .dataframe tbody tr th {\n",
              "        vertical-align: top;\n",
              "    }\n",
              "\n",
              "    .dataframe thead th {\n",
              "        text-align: right;\n",
              "    }\n",
              "</style>\n",
              "<table border=\"1\" class=\"dataframe\">\n",
              "  <thead>\n",
              "    <tr style=\"text-align: right;\">\n",
              "      <th></th>\n",
              "      <th>color</th>\n",
              "      <th>director_name</th>\n",
              "      <th>num_critic_for_reviews</th>\n",
              "      <th>duration</th>\n",
              "      <th>actor_2_name</th>\n",
              "      <th>gross</th>\n",
              "      <th>genres</th>\n",
              "      <th>actor_1_name</th>\n",
              "      <th>movie_title</th>\n",
              "      <th>num_voted_users</th>\n",
              "      <th>...</th>\n",
              "      <th>plot_keywords</th>\n",
              "      <th>movie_imdb_link</th>\n",
              "      <th>num_user_for_reviews</th>\n",
              "      <th>language</th>\n",
              "      <th>country</th>\n",
              "      <th>content_rating</th>\n",
              "      <th>budget</th>\n",
              "      <th>title_year</th>\n",
              "      <th>imdb_score</th>\n",
              "      <th>aspect_ratio</th>\n",
              "    </tr>\n",
              "  </thead>\n",
              "  <tbody>\n",
              "    <tr>\n",
              "      <th>0</th>\n",
              "      <td>Color</td>\n",
              "      <td>James Cameron</td>\n",
              "      <td>723.0</td>\n",
              "      <td>178.0</td>\n",
              "      <td>Joel David Moore</td>\n",
              "      <td>760505847.0</td>\n",
              "      <td>Action|Adventure|Fantasy|Sci-Fi</td>\n",
              "      <td>CCH Pounder</td>\n",
              "      <td>Avatar</td>\n",
              "      <td>886204</td>\n",
              "      <td>...</td>\n",
              "      <td>avatar|future|marine|native|paraplegic</td>\n",
              "      <td>http://www.imdb.com/title/tt0499549/?ref_=fn_t...</td>\n",
              "      <td>3054.0</td>\n",
              "      <td>English</td>\n",
              "      <td>USA</td>\n",
              "      <td>PG-13</td>\n",
              "      <td>237000000.0</td>\n",
              "      <td>2009.0</td>\n",
              "      <td>7.9</td>\n",
              "      <td>1.78</td>\n",
              "    </tr>\n",
              "    <tr>\n",
              "      <th>1</th>\n",
              "      <td>Color</td>\n",
              "      <td>Gore Verbinski</td>\n",
              "      <td>302.0</td>\n",
              "      <td>169.0</td>\n",
              "      <td>Orlando Bloom</td>\n",
              "      <td>309404152.0</td>\n",
              "      <td>Action|Adventure|Fantasy</td>\n",
              "      <td>Johnny Depp</td>\n",
              "      <td>Pirates of the Caribbean: At World's End</td>\n",
              "      <td>471220</td>\n",
              "      <td>...</td>\n",
              "      <td>goddess|marriage ceremony|marriage proposal|pi...</td>\n",
              "      <td>http://www.imdb.com/title/tt0449088/?ref_=fn_t...</td>\n",
              "      <td>1238.0</td>\n",
              "      <td>English</td>\n",
              "      <td>USA</td>\n",
              "      <td>PG-13</td>\n",
              "      <td>300000000.0</td>\n",
              "      <td>2007.0</td>\n",
              "      <td>7.1</td>\n",
              "      <td>2.35</td>\n",
              "    </tr>\n",
              "    <tr>\n",
              "      <th>3</th>\n",
              "      <td>Color</td>\n",
              "      <td>Christopher Nolan</td>\n",
              "      <td>813.0</td>\n",
              "      <td>164.0</td>\n",
              "      <td>Christian Bale</td>\n",
              "      <td>448130642.0</td>\n",
              "      <td>Action|Thriller</td>\n",
              "      <td>Tom Hardy</td>\n",
              "      <td>The Dark Knight Rises</td>\n",
              "      <td>1144337</td>\n",
              "      <td>...</td>\n",
              "      <td>deception|imprisonment|lawlessness|police offi...</td>\n",
              "      <td>http://www.imdb.com/title/tt1345836/?ref_=fn_t...</td>\n",
              "      <td>2701.0</td>\n",
              "      <td>English</td>\n",
              "      <td>USA</td>\n",
              "      <td>PG-13</td>\n",
              "      <td>250000000.0</td>\n",
              "      <td>2012.0</td>\n",
              "      <td>8.5</td>\n",
              "      <td>2.35</td>\n",
              "    </tr>\n",
              "    <tr>\n",
              "      <th>8</th>\n",
              "      <td>Color</td>\n",
              "      <td>Joss Whedon</td>\n",
              "      <td>635.0</td>\n",
              "      <td>141.0</td>\n",
              "      <td>Robert Downey Jr.</td>\n",
              "      <td>458991599.0</td>\n",
              "      <td>Action|Adventure|Sci-Fi</td>\n",
              "      <td>Chris Hemsworth</td>\n",
              "      <td>Avengers: Age of Ultron</td>\n",
              "      <td>462669</td>\n",
              "      <td>...</td>\n",
              "      <td>artificial intelligence|based on comic book|ca...</td>\n",
              "      <td>http://www.imdb.com/title/tt2395427/?ref_=fn_t...</td>\n",
              "      <td>1117.0</td>\n",
              "      <td>English</td>\n",
              "      <td>USA</td>\n",
              "      <td>PG-13</td>\n",
              "      <td>250000000.0</td>\n",
              "      <td>2015.0</td>\n",
              "      <td>7.5</td>\n",
              "      <td>2.35</td>\n",
              "    </tr>\n",
              "    <tr>\n",
              "      <th>9</th>\n",
              "      <td>Color</td>\n",
              "      <td>David Yates</td>\n",
              "      <td>375.0</td>\n",
              "      <td>153.0</td>\n",
              "      <td>Daniel Radcliffe</td>\n",
              "      <td>301956980.0</td>\n",
              "      <td>Adventure|Family|Fantasy|Mystery</td>\n",
              "      <td>Alan Rickman</td>\n",
              "      <td>Harry Potter and the Half-Blood Prince</td>\n",
              "      <td>321795</td>\n",
              "      <td>...</td>\n",
              "      <td>blood|book|love|potion|professor</td>\n",
              "      <td>http://www.imdb.com/title/tt0417741/?ref_=fn_t...</td>\n",
              "      <td>973.0</td>\n",
              "      <td>English</td>\n",
              "      <td>UK</td>\n",
              "      <td>PG</td>\n",
              "      <td>250000000.0</td>\n",
              "      <td>2009.0</td>\n",
              "      <td>7.5</td>\n",
              "      <td>2.35</td>\n",
              "    </tr>\n",
              "  </tbody>\n",
              "</table>\n",
              "<p>5 rows × 21 columns</p>\n",
              "</div>"
            ],
            "text/plain": [
              "   color      director_name  num_critic_for_reviews  duration  \\\n",
              "0  Color      James Cameron                   723.0     178.0   \n",
              "1  Color     Gore Verbinski                   302.0     169.0   \n",
              "3  Color  Christopher Nolan                   813.0     164.0   \n",
              "8  Color        Joss Whedon                   635.0     141.0   \n",
              "9  Color        David Yates                   375.0     153.0   \n",
              "\n",
              "        actor_2_name        gross                            genres  \\\n",
              "0   Joel David Moore  760505847.0   Action|Adventure|Fantasy|Sci-Fi   \n",
              "1      Orlando Bloom  309404152.0          Action|Adventure|Fantasy   \n",
              "3     Christian Bale  448130642.0                   Action|Thriller   \n",
              "8  Robert Downey Jr.  458991599.0           Action|Adventure|Sci-Fi   \n",
              "9   Daniel Radcliffe  301956980.0  Adventure|Family|Fantasy|Mystery   \n",
              "\n",
              "      actor_1_name                                movie_title  \\\n",
              "0      CCH Pounder                                    Avatar    \n",
              "1      Johnny Depp  Pirates of the Caribbean: At World's End    \n",
              "3        Tom Hardy                     The Dark Knight Rises    \n",
              "8  Chris Hemsworth                   Avengers: Age of Ultron    \n",
              "9     Alan Rickman    Harry Potter and the Half-Blood Prince    \n",
              "\n",
              "   num_voted_users      ...       \\\n",
              "0           886204      ...        \n",
              "1           471220      ...        \n",
              "3          1144337      ...        \n",
              "8           462669      ...        \n",
              "9           321795      ...        \n",
              "\n",
              "                                       plot_keywords  \\\n",
              "0             avatar|future|marine|native|paraplegic   \n",
              "1  goddess|marriage ceremony|marriage proposal|pi...   \n",
              "3  deception|imprisonment|lawlessness|police offi...   \n",
              "8  artificial intelligence|based on comic book|ca...   \n",
              "9                   blood|book|love|potion|professor   \n",
              "\n",
              "                                     movie_imdb_link num_user_for_reviews  \\\n",
              "0  http://www.imdb.com/title/tt0499549/?ref_=fn_t...               3054.0   \n",
              "1  http://www.imdb.com/title/tt0449088/?ref_=fn_t...               1238.0   \n",
              "3  http://www.imdb.com/title/tt1345836/?ref_=fn_t...               2701.0   \n",
              "8  http://www.imdb.com/title/tt2395427/?ref_=fn_t...               1117.0   \n",
              "9  http://www.imdb.com/title/tt0417741/?ref_=fn_t...                973.0   \n",
              "\n",
              "   language country content_rating       budget  title_year  imdb_score  \\\n",
              "0   English     USA          PG-13  237000000.0      2009.0         7.9   \n",
              "1   English     USA          PG-13  300000000.0      2007.0         7.1   \n",
              "3   English     USA          PG-13  250000000.0      2012.0         8.5   \n",
              "8   English     USA          PG-13  250000000.0      2015.0         7.5   \n",
              "9   English      UK             PG  250000000.0      2009.0         7.5   \n",
              "\n",
              "   aspect_ratio  \n",
              "0          1.78  \n",
              "1          2.35  \n",
              "3          2.35  \n",
              "8          2.35  \n",
              "9          2.35  \n",
              "\n",
              "[5 rows x 21 columns]"
            ]
          },
          "metadata": {
            "tags": []
          },
          "execution_count": 26
        }
      ]
    },
    {
      "metadata": {
        "id": "WoWgLt_qNKAQ",
        "colab_type": "code",
        "outputId": "cd6715c1-30a3-4eb9-9180-bc7640e671ea",
        "colab": {
          "base_uri": "https://localhost:8080/",
          "height": 429
        }
      },
      "cell_type": "code",
      "source": [
        "unsuccessful.head()"
      ],
      "execution_count": 27,
      "outputs": [
        {
          "output_type": "execute_result",
          "data": {
            "text/html": [
              "<div>\n",
              "<style scoped>\n",
              "    .dataframe tbody tr th:only-of-type {\n",
              "        vertical-align: middle;\n",
              "    }\n",
              "\n",
              "    .dataframe tbody tr th {\n",
              "        vertical-align: top;\n",
              "    }\n",
              "\n",
              "    .dataframe thead th {\n",
              "        text-align: right;\n",
              "    }\n",
              "</style>\n",
              "<table border=\"1\" class=\"dataframe\">\n",
              "  <thead>\n",
              "    <tr style=\"text-align: right;\">\n",
              "      <th></th>\n",
              "      <th>color</th>\n",
              "      <th>director_name</th>\n",
              "      <th>num_critic_for_reviews</th>\n",
              "      <th>duration</th>\n",
              "      <th>actor_2_name</th>\n",
              "      <th>gross</th>\n",
              "      <th>genres</th>\n",
              "      <th>actor_1_name</th>\n",
              "      <th>movie_title</th>\n",
              "      <th>num_voted_users</th>\n",
              "      <th>...</th>\n",
              "      <th>plot_keywords</th>\n",
              "      <th>movie_imdb_link</th>\n",
              "      <th>num_user_for_reviews</th>\n",
              "      <th>language</th>\n",
              "      <th>country</th>\n",
              "      <th>content_rating</th>\n",
              "      <th>budget</th>\n",
              "      <th>title_year</th>\n",
              "      <th>imdb_score</th>\n",
              "      <th>aspect_ratio</th>\n",
              "    </tr>\n",
              "  </thead>\n",
              "  <tbody>\n",
              "    <tr>\n",
              "      <th>11</th>\n",
              "      <td>Color</td>\n",
              "      <td>Bryan Singer</td>\n",
              "      <td>434.0</td>\n",
              "      <td>169.0</td>\n",
              "      <td>Marlon Brando</td>\n",
              "      <td>200069408.0</td>\n",
              "      <td>Action|Adventure|Sci-Fi</td>\n",
              "      <td>Kevin Spacey</td>\n",
              "      <td>Superman Returns</td>\n",
              "      <td>240396</td>\n",
              "      <td>...</td>\n",
              "      <td>crystal|epic|lex luthor|lois lane|return to earth</td>\n",
              "      <td>http://www.imdb.com/title/tt0348150/?ref_=fn_t...</td>\n",
              "      <td>2367.0</td>\n",
              "      <td>English</td>\n",
              "      <td>USA</td>\n",
              "      <td>PG-13</td>\n",
              "      <td>209000000.0</td>\n",
              "      <td>2006.0</td>\n",
              "      <td>6.1</td>\n",
              "      <td>2.35</td>\n",
              "    </tr>\n",
              "    <tr>\n",
              "      <th>24</th>\n",
              "      <td>Color</td>\n",
              "      <td>Chris Weitz</td>\n",
              "      <td>251.0</td>\n",
              "      <td>113.0</td>\n",
              "      <td>Eva Green</td>\n",
              "      <td>70083519.0</td>\n",
              "      <td>Adventure|Family|Fantasy</td>\n",
              "      <td>Christopher Lee</td>\n",
              "      <td>The Golden Compass</td>\n",
              "      <td>149019</td>\n",
              "      <td>...</td>\n",
              "      <td>children|epic|friend|girl|quest</td>\n",
              "      <td>http://www.imdb.com/title/tt0385752/?ref_=fn_t...</td>\n",
              "      <td>666.0</td>\n",
              "      <td>English</td>\n",
              "      <td>USA</td>\n",
              "      <td>PG-13</td>\n",
              "      <td>180000000.0</td>\n",
              "      <td>2007.0</td>\n",
              "      <td>6.1</td>\n",
              "      <td>2.35</td>\n",
              "    </tr>\n",
              "    <tr>\n",
              "      <th>28</th>\n",
              "      <td>Color</td>\n",
              "      <td>Peter Berg</td>\n",
              "      <td>377.0</td>\n",
              "      <td>131.0</td>\n",
              "      <td>Alexander Skarsgård</td>\n",
              "      <td>65173160.0</td>\n",
              "      <td>Action|Adventure|Sci-Fi|Thriller</td>\n",
              "      <td>Liam Neeson</td>\n",
              "      <td>Battleship</td>\n",
              "      <td>202382</td>\n",
              "      <td>...</td>\n",
              "      <td>box office flop|hawaii|naval|oahu hawaii|ship</td>\n",
              "      <td>http://www.imdb.com/title/tt1440129/?ref_=fn_t...</td>\n",
              "      <td>751.0</td>\n",
              "      <td>English</td>\n",
              "      <td>USA</td>\n",
              "      <td>PG-13</td>\n",
              "      <td>209000000.0</td>\n",
              "      <td>2012.0</td>\n",
              "      <td>5.9</td>\n",
              "      <td>2.35</td>\n",
              "    </tr>\n",
              "    <tr>\n",
              "      <th>41</th>\n",
              "      <td>Color</td>\n",
              "      <td>John Lasseter</td>\n",
              "      <td>304.0</td>\n",
              "      <td>106.0</td>\n",
              "      <td>Thomas Kretschmann</td>\n",
              "      <td>191450875.0</td>\n",
              "      <td>Adventure|Animation|Comedy|Family|Sport</td>\n",
              "      <td>Joe Mantegna</td>\n",
              "      <td>Cars 2</td>\n",
              "      <td>101178</td>\n",
              "      <td>...</td>\n",
              "      <td>best friend|car race|conspiracy|gadget car|spy</td>\n",
              "      <td>http://www.imdb.com/title/tt1216475/?ref_=fn_t...</td>\n",
              "      <td>283.0</td>\n",
              "      <td>English</td>\n",
              "      <td>USA</td>\n",
              "      <td>G</td>\n",
              "      <td>200000000.0</td>\n",
              "      <td>2011.0</td>\n",
              "      <td>6.3</td>\n",
              "      <td>2.35</td>\n",
              "    </tr>\n",
              "    <tr>\n",
              "      <th>42</th>\n",
              "      <td>Color</td>\n",
              "      <td>Martin Campbell</td>\n",
              "      <td>436.0</td>\n",
              "      <td>123.0</td>\n",
              "      <td>Temuera Morrison</td>\n",
              "      <td>116593191.0</td>\n",
              "      <td>Action|Adventure|Sci-Fi</td>\n",
              "      <td>Ryan Reynolds</td>\n",
              "      <td>Green Lantern</td>\n",
              "      <td>223393</td>\n",
              "      <td>...</td>\n",
              "      <td>autopsy|lantern|planet|ring|test pilot</td>\n",
              "      <td>http://www.imdb.com/title/tt1133985/?ref_=fn_t...</td>\n",
              "      <td>550.0</td>\n",
              "      <td>English</td>\n",
              "      <td>USA</td>\n",
              "      <td>PG-13</td>\n",
              "      <td>200000000.0</td>\n",
              "      <td>2011.0</td>\n",
              "      <td>5.6</td>\n",
              "      <td>2.35</td>\n",
              "    </tr>\n",
              "  </tbody>\n",
              "</table>\n",
              "<p>5 rows × 21 columns</p>\n",
              "</div>"
            ],
            "text/plain": [
              "    color    director_name  num_critic_for_reviews  duration  \\\n",
              "11  Color     Bryan Singer                   434.0     169.0   \n",
              "24  Color      Chris Weitz                   251.0     113.0   \n",
              "28  Color       Peter Berg                   377.0     131.0   \n",
              "41  Color    John Lasseter                   304.0     106.0   \n",
              "42  Color  Martin Campbell                   436.0     123.0   \n",
              "\n",
              "           actor_2_name        gross                                   genres  \\\n",
              "11        Marlon Brando  200069408.0                  Action|Adventure|Sci-Fi   \n",
              "24            Eva Green   70083519.0                 Adventure|Family|Fantasy   \n",
              "28  Alexander Skarsgård   65173160.0         Action|Adventure|Sci-Fi|Thriller   \n",
              "41   Thomas Kretschmann  191450875.0  Adventure|Animation|Comedy|Family|Sport   \n",
              "42     Temuera Morrison  116593191.0                  Action|Adventure|Sci-Fi   \n",
              "\n",
              "       actor_1_name          movie_title  num_voted_users      ...       \\\n",
              "11     Kevin Spacey    Superman Returns            240396      ...        \n",
              "24  Christopher Lee  The Golden Compass            149019      ...        \n",
              "28      Liam Neeson          Battleship            202382      ...        \n",
              "41     Joe Mantegna              Cars 2            101178      ...        \n",
              "42    Ryan Reynolds       Green Lantern            223393      ...        \n",
              "\n",
              "                                        plot_keywords  \\\n",
              "11  crystal|epic|lex luthor|lois lane|return to earth   \n",
              "24                    children|epic|friend|girl|quest   \n",
              "28      box office flop|hawaii|naval|oahu hawaii|ship   \n",
              "41     best friend|car race|conspiracy|gadget car|spy   \n",
              "42             autopsy|lantern|planet|ring|test pilot   \n",
              "\n",
              "                                      movie_imdb_link num_user_for_reviews  \\\n",
              "11  http://www.imdb.com/title/tt0348150/?ref_=fn_t...               2367.0   \n",
              "24  http://www.imdb.com/title/tt0385752/?ref_=fn_t...                666.0   \n",
              "28  http://www.imdb.com/title/tt1440129/?ref_=fn_t...                751.0   \n",
              "41  http://www.imdb.com/title/tt1216475/?ref_=fn_t...                283.0   \n",
              "42  http://www.imdb.com/title/tt1133985/?ref_=fn_t...                550.0   \n",
              "\n",
              "    language country content_rating       budget  title_year  imdb_score  \\\n",
              "11   English     USA          PG-13  209000000.0      2006.0         6.1   \n",
              "24   English     USA          PG-13  180000000.0      2007.0         6.1   \n",
              "28   English     USA          PG-13  209000000.0      2012.0         5.9   \n",
              "41   English     USA              G  200000000.0      2011.0         6.3   \n",
              "42   English     USA          PG-13  200000000.0      2011.0         5.6   \n",
              "\n",
              "    aspect_ratio  \n",
              "11          2.35  \n",
              "24          2.35  \n",
              "28          2.35  \n",
              "41          2.35  \n",
              "42          2.35  \n",
              "\n",
              "[5 rows x 21 columns]"
            ]
          },
          "metadata": {
            "tags": []
          },
          "execution_count": 27
        }
      ]
    },
    {
      "metadata": {
        "id": "uRuUOyyOHi0-",
        "colab_type": "text"
      },
      "cell_type": "markdown",
      "source": [
        "## Fixing up the newly formed datasets"
      ]
    },
    {
      "metadata": {
        "id": "IVlorRtcMlZD",
        "colab_type": "text"
      },
      "cell_type": "markdown",
      "source": [
        "**Separating genres into actual columns:**"
      ]
    },
    {
      "metadata": {
        "id": "rlvKltGLP52f",
        "colab_type": "code",
        "outputId": "af03684e-75e9-4e21-d302-26df4c95cae6",
        "colab": {
          "base_uri": "https://localhost:8080/",
          "height": 481
        }
      },
      "cell_type": "code",
      "source": [
        "successful = successful.join(successful.pop('genres').str.get_dummies('|'))\n",
        "successful.head()"
      ],
      "execution_count": 28,
      "outputs": [
        {
          "output_type": "execute_result",
          "data": {
            "text/html": [
              "<div>\n",
              "<style scoped>\n",
              "    .dataframe tbody tr th:only-of-type {\n",
              "        vertical-align: middle;\n",
              "    }\n",
              "\n",
              "    .dataframe tbody tr th {\n",
              "        vertical-align: top;\n",
              "    }\n",
              "\n",
              "    .dataframe thead th {\n",
              "        text-align: right;\n",
              "    }\n",
              "</style>\n",
              "<table border=\"1\" class=\"dataframe\">\n",
              "  <thead>\n",
              "    <tr style=\"text-align: right;\">\n",
              "      <th></th>\n",
              "      <th>color</th>\n",
              "      <th>director_name</th>\n",
              "      <th>num_critic_for_reviews</th>\n",
              "      <th>duration</th>\n",
              "      <th>actor_2_name</th>\n",
              "      <th>gross</th>\n",
              "      <th>actor_1_name</th>\n",
              "      <th>movie_title</th>\n",
              "      <th>num_voted_users</th>\n",
              "      <th>actor_3_name</th>\n",
              "      <th>...</th>\n",
              "      <th>Horror</th>\n",
              "      <th>Music</th>\n",
              "      <th>Musical</th>\n",
              "      <th>Mystery</th>\n",
              "      <th>Romance</th>\n",
              "      <th>Sci-Fi</th>\n",
              "      <th>Sport</th>\n",
              "      <th>Thriller</th>\n",
              "      <th>War</th>\n",
              "      <th>Western</th>\n",
              "    </tr>\n",
              "  </thead>\n",
              "  <tbody>\n",
              "    <tr>\n",
              "      <th>0</th>\n",
              "      <td>Color</td>\n",
              "      <td>James Cameron</td>\n",
              "      <td>723.0</td>\n",
              "      <td>178.0</td>\n",
              "      <td>Joel David Moore</td>\n",
              "      <td>760505847.0</td>\n",
              "      <td>CCH Pounder</td>\n",
              "      <td>Avatar</td>\n",
              "      <td>886204</td>\n",
              "      <td>Wes Studi</td>\n",
              "      <td>...</td>\n",
              "      <td>0</td>\n",
              "      <td>0</td>\n",
              "      <td>0</td>\n",
              "      <td>0</td>\n",
              "      <td>0</td>\n",
              "      <td>1</td>\n",
              "      <td>0</td>\n",
              "      <td>0</td>\n",
              "      <td>0</td>\n",
              "      <td>0</td>\n",
              "    </tr>\n",
              "    <tr>\n",
              "      <th>1</th>\n",
              "      <td>Color</td>\n",
              "      <td>Gore Verbinski</td>\n",
              "      <td>302.0</td>\n",
              "      <td>169.0</td>\n",
              "      <td>Orlando Bloom</td>\n",
              "      <td>309404152.0</td>\n",
              "      <td>Johnny Depp</td>\n",
              "      <td>Pirates of the Caribbean: At World's End</td>\n",
              "      <td>471220</td>\n",
              "      <td>Jack Davenport</td>\n",
              "      <td>...</td>\n",
              "      <td>0</td>\n",
              "      <td>0</td>\n",
              "      <td>0</td>\n",
              "      <td>0</td>\n",
              "      <td>0</td>\n",
              "      <td>0</td>\n",
              "      <td>0</td>\n",
              "      <td>0</td>\n",
              "      <td>0</td>\n",
              "      <td>0</td>\n",
              "    </tr>\n",
              "    <tr>\n",
              "      <th>3</th>\n",
              "      <td>Color</td>\n",
              "      <td>Christopher Nolan</td>\n",
              "      <td>813.0</td>\n",
              "      <td>164.0</td>\n",
              "      <td>Christian Bale</td>\n",
              "      <td>448130642.0</td>\n",
              "      <td>Tom Hardy</td>\n",
              "      <td>The Dark Knight Rises</td>\n",
              "      <td>1144337</td>\n",
              "      <td>Joseph Gordon-Levitt</td>\n",
              "      <td>...</td>\n",
              "      <td>0</td>\n",
              "      <td>0</td>\n",
              "      <td>0</td>\n",
              "      <td>0</td>\n",
              "      <td>0</td>\n",
              "      <td>0</td>\n",
              "      <td>0</td>\n",
              "      <td>1</td>\n",
              "      <td>0</td>\n",
              "      <td>0</td>\n",
              "    </tr>\n",
              "    <tr>\n",
              "      <th>8</th>\n",
              "      <td>Color</td>\n",
              "      <td>Joss Whedon</td>\n",
              "      <td>635.0</td>\n",
              "      <td>141.0</td>\n",
              "      <td>Robert Downey Jr.</td>\n",
              "      <td>458991599.0</td>\n",
              "      <td>Chris Hemsworth</td>\n",
              "      <td>Avengers: Age of Ultron</td>\n",
              "      <td>462669</td>\n",
              "      <td>Scarlett Johansson</td>\n",
              "      <td>...</td>\n",
              "      <td>0</td>\n",
              "      <td>0</td>\n",
              "      <td>0</td>\n",
              "      <td>0</td>\n",
              "      <td>0</td>\n",
              "      <td>1</td>\n",
              "      <td>0</td>\n",
              "      <td>0</td>\n",
              "      <td>0</td>\n",
              "      <td>0</td>\n",
              "    </tr>\n",
              "    <tr>\n",
              "      <th>9</th>\n",
              "      <td>Color</td>\n",
              "      <td>David Yates</td>\n",
              "      <td>375.0</td>\n",
              "      <td>153.0</td>\n",
              "      <td>Daniel Radcliffe</td>\n",
              "      <td>301956980.0</td>\n",
              "      <td>Alan Rickman</td>\n",
              "      <td>Harry Potter and the Half-Blood Prince</td>\n",
              "      <td>321795</td>\n",
              "      <td>Rupert Grint</td>\n",
              "      <td>...</td>\n",
              "      <td>0</td>\n",
              "      <td>0</td>\n",
              "      <td>0</td>\n",
              "      <td>1</td>\n",
              "      <td>0</td>\n",
              "      <td>0</td>\n",
              "      <td>0</td>\n",
              "      <td>0</td>\n",
              "      <td>0</td>\n",
              "      <td>0</td>\n",
              "    </tr>\n",
              "  </tbody>\n",
              "</table>\n",
              "<p>5 rows × 40 columns</p>\n",
              "</div>"
            ],
            "text/plain": [
              "   color      director_name  num_critic_for_reviews  duration  \\\n",
              "0  Color      James Cameron                   723.0     178.0   \n",
              "1  Color     Gore Verbinski                   302.0     169.0   \n",
              "3  Color  Christopher Nolan                   813.0     164.0   \n",
              "8  Color        Joss Whedon                   635.0     141.0   \n",
              "9  Color        David Yates                   375.0     153.0   \n",
              "\n",
              "        actor_2_name        gross     actor_1_name  \\\n",
              "0   Joel David Moore  760505847.0      CCH Pounder   \n",
              "1      Orlando Bloom  309404152.0      Johnny Depp   \n",
              "3     Christian Bale  448130642.0        Tom Hardy   \n",
              "8  Robert Downey Jr.  458991599.0  Chris Hemsworth   \n",
              "9   Daniel Radcliffe  301956980.0     Alan Rickman   \n",
              "\n",
              "                                 movie_title  num_voted_users  \\\n",
              "0                                    Avatar            886204   \n",
              "1  Pirates of the Caribbean: At World's End            471220   \n",
              "3                     The Dark Knight Rises           1144337   \n",
              "8                   Avengers: Age of Ultron            462669   \n",
              "9    Harry Potter and the Half-Blood Prince            321795   \n",
              "\n",
              "           actor_3_name   ...    Horror Music  Musical Mystery Romance Sci-Fi  \\\n",
              "0             Wes Studi   ...         0     0        0       0       0      1   \n",
              "1        Jack Davenport   ...         0     0        0       0       0      0   \n",
              "3  Joseph Gordon-Levitt   ...         0     0        0       0       0      0   \n",
              "8    Scarlett Johansson   ...         0     0        0       0       0      1   \n",
              "9          Rupert Grint   ...         0     0        0       1       0      0   \n",
              "\n",
              "   Sport  Thriller  War  Western  \n",
              "0      0         0    0        0  \n",
              "1      0         0    0        0  \n",
              "3      0         1    0        0  \n",
              "8      0         0    0        0  \n",
              "9      0         0    0        0  \n",
              "\n",
              "[5 rows x 40 columns]"
            ]
          },
          "metadata": {
            "tags": []
          },
          "execution_count": 28
        }
      ]
    },
    {
      "metadata": {
        "id": "4UDLaCiaR8gM",
        "colab_type": "code",
        "outputId": "bb719d82-79f2-4aeb-ebf2-e18cb663975c",
        "colab": {
          "base_uri": "https://localhost:8080/",
          "height": 360
        }
      },
      "cell_type": "code",
      "source": [
        "unsuccessful = unsuccessful.join(unsuccessful.pop('genres').str.get_dummies('|'))\n",
        "unsuccessful.head()"
      ],
      "execution_count": 29,
      "outputs": [
        {
          "output_type": "execute_result",
          "data": {
            "text/html": [
              "<div>\n",
              "<style scoped>\n",
              "    .dataframe tbody tr th:only-of-type {\n",
              "        vertical-align: middle;\n",
              "    }\n",
              "\n",
              "    .dataframe tbody tr th {\n",
              "        vertical-align: top;\n",
              "    }\n",
              "\n",
              "    .dataframe thead th {\n",
              "        text-align: right;\n",
              "    }\n",
              "</style>\n",
              "<table border=\"1\" class=\"dataframe\">\n",
              "  <thead>\n",
              "    <tr style=\"text-align: right;\">\n",
              "      <th></th>\n",
              "      <th>color</th>\n",
              "      <th>director_name</th>\n",
              "      <th>num_critic_for_reviews</th>\n",
              "      <th>duration</th>\n",
              "      <th>actor_2_name</th>\n",
              "      <th>gross</th>\n",
              "      <th>actor_1_name</th>\n",
              "      <th>movie_title</th>\n",
              "      <th>num_voted_users</th>\n",
              "      <th>actor_3_name</th>\n",
              "      <th>...</th>\n",
              "      <th>Horror</th>\n",
              "      <th>Music</th>\n",
              "      <th>Musical</th>\n",
              "      <th>Mystery</th>\n",
              "      <th>Romance</th>\n",
              "      <th>Sci-Fi</th>\n",
              "      <th>Sport</th>\n",
              "      <th>Thriller</th>\n",
              "      <th>War</th>\n",
              "      <th>Western</th>\n",
              "    </tr>\n",
              "  </thead>\n",
              "  <tbody>\n",
              "    <tr>\n",
              "      <th>11</th>\n",
              "      <td>Color</td>\n",
              "      <td>Bryan Singer</td>\n",
              "      <td>434.0</td>\n",
              "      <td>169.0</td>\n",
              "      <td>Marlon Brando</td>\n",
              "      <td>200069408.0</td>\n",
              "      <td>Kevin Spacey</td>\n",
              "      <td>Superman Returns</td>\n",
              "      <td>240396</td>\n",
              "      <td>Frank Langella</td>\n",
              "      <td>...</td>\n",
              "      <td>0</td>\n",
              "      <td>0</td>\n",
              "      <td>0</td>\n",
              "      <td>0</td>\n",
              "      <td>0</td>\n",
              "      <td>1</td>\n",
              "      <td>0</td>\n",
              "      <td>0</td>\n",
              "      <td>0</td>\n",
              "      <td>0</td>\n",
              "    </tr>\n",
              "    <tr>\n",
              "      <th>24</th>\n",
              "      <td>Color</td>\n",
              "      <td>Chris Weitz</td>\n",
              "      <td>251.0</td>\n",
              "      <td>113.0</td>\n",
              "      <td>Eva Green</td>\n",
              "      <td>70083519.0</td>\n",
              "      <td>Christopher Lee</td>\n",
              "      <td>The Golden Compass</td>\n",
              "      <td>149019</td>\n",
              "      <td>Kristin Scott Thomas</td>\n",
              "      <td>...</td>\n",
              "      <td>0</td>\n",
              "      <td>0</td>\n",
              "      <td>0</td>\n",
              "      <td>0</td>\n",
              "      <td>0</td>\n",
              "      <td>0</td>\n",
              "      <td>0</td>\n",
              "      <td>0</td>\n",
              "      <td>0</td>\n",
              "      <td>0</td>\n",
              "    </tr>\n",
              "    <tr>\n",
              "      <th>28</th>\n",
              "      <td>Color</td>\n",
              "      <td>Peter Berg</td>\n",
              "      <td>377.0</td>\n",
              "      <td>131.0</td>\n",
              "      <td>Alexander Skarsgård</td>\n",
              "      <td>65173160.0</td>\n",
              "      <td>Liam Neeson</td>\n",
              "      <td>Battleship</td>\n",
              "      <td>202382</td>\n",
              "      <td>Tadanobu Asano</td>\n",
              "      <td>...</td>\n",
              "      <td>0</td>\n",
              "      <td>0</td>\n",
              "      <td>0</td>\n",
              "      <td>0</td>\n",
              "      <td>0</td>\n",
              "      <td>1</td>\n",
              "      <td>0</td>\n",
              "      <td>1</td>\n",
              "      <td>0</td>\n",
              "      <td>0</td>\n",
              "    </tr>\n",
              "    <tr>\n",
              "      <th>41</th>\n",
              "      <td>Color</td>\n",
              "      <td>John Lasseter</td>\n",
              "      <td>304.0</td>\n",
              "      <td>106.0</td>\n",
              "      <td>Thomas Kretschmann</td>\n",
              "      <td>191450875.0</td>\n",
              "      <td>Joe Mantegna</td>\n",
              "      <td>Cars 2</td>\n",
              "      <td>101178</td>\n",
              "      <td>Eddie Izzard</td>\n",
              "      <td>...</td>\n",
              "      <td>0</td>\n",
              "      <td>0</td>\n",
              "      <td>0</td>\n",
              "      <td>0</td>\n",
              "      <td>0</td>\n",
              "      <td>0</td>\n",
              "      <td>1</td>\n",
              "      <td>0</td>\n",
              "      <td>0</td>\n",
              "      <td>0</td>\n",
              "    </tr>\n",
              "    <tr>\n",
              "      <th>42</th>\n",
              "      <td>Color</td>\n",
              "      <td>Martin Campbell</td>\n",
              "      <td>436.0</td>\n",
              "      <td>123.0</td>\n",
              "      <td>Temuera Morrison</td>\n",
              "      <td>116593191.0</td>\n",
              "      <td>Ryan Reynolds</td>\n",
              "      <td>Green Lantern</td>\n",
              "      <td>223393</td>\n",
              "      <td>Taika Waititi</td>\n",
              "      <td>...</td>\n",
              "      <td>0</td>\n",
              "      <td>0</td>\n",
              "      <td>0</td>\n",
              "      <td>0</td>\n",
              "      <td>0</td>\n",
              "      <td>1</td>\n",
              "      <td>0</td>\n",
              "      <td>0</td>\n",
              "      <td>0</td>\n",
              "      <td>0</td>\n",
              "    </tr>\n",
              "  </tbody>\n",
              "</table>\n",
              "<p>5 rows × 40 columns</p>\n",
              "</div>"
            ],
            "text/plain": [
              "    color    director_name  num_critic_for_reviews  duration  \\\n",
              "11  Color     Bryan Singer                   434.0     169.0   \n",
              "24  Color      Chris Weitz                   251.0     113.0   \n",
              "28  Color       Peter Berg                   377.0     131.0   \n",
              "41  Color    John Lasseter                   304.0     106.0   \n",
              "42  Color  Martin Campbell                   436.0     123.0   \n",
              "\n",
              "           actor_2_name        gross     actor_1_name          movie_title  \\\n",
              "11        Marlon Brando  200069408.0     Kevin Spacey    Superman Returns    \n",
              "24            Eva Green   70083519.0  Christopher Lee  The Golden Compass    \n",
              "28  Alexander Skarsgård   65173160.0      Liam Neeson          Battleship    \n",
              "41   Thomas Kretschmann  191450875.0     Joe Mantegna              Cars 2    \n",
              "42     Temuera Morrison  116593191.0    Ryan Reynolds       Green Lantern    \n",
              "\n",
              "    num_voted_users          actor_3_name   ...    Horror Music  Musical  \\\n",
              "11           240396        Frank Langella   ...         0     0        0   \n",
              "24           149019  Kristin Scott Thomas   ...         0     0        0   \n",
              "28           202382        Tadanobu Asano   ...         0     0        0   \n",
              "41           101178          Eddie Izzard   ...         0     0        0   \n",
              "42           223393         Taika Waititi   ...         0     0        0   \n",
              "\n",
              "   Mystery Romance Sci-Fi  Sport  Thriller  War  Western  \n",
              "11       0       0      1      0         0    0        0  \n",
              "24       0       0      0      0         0    0        0  \n",
              "28       0       0      1      0         1    0        0  \n",
              "41       0       0      0      1         0    0        0  \n",
              "42       0       0      1      0         0    0        0  \n",
              "\n",
              "[5 rows x 40 columns]"
            ]
          },
          "metadata": {
            "tags": []
          },
          "execution_count": 29
        }
      ]
    },
    {
      "metadata": {
        "id": "XwAohvzjSJr-",
        "colab_type": "code",
        "outputId": "38c6559c-0322-43e9-d8e5-d50fd992ac2e",
        "colab": {
          "base_uri": "https://localhost:8080/",
          "height": 173
        }
      },
      "cell_type": "code",
      "source": [
        "successful.columns"
      ],
      "execution_count": 30,
      "outputs": [
        {
          "output_type": "execute_result",
          "data": {
            "text/plain": [
              "Index(['color', 'director_name', 'num_critic_for_reviews', 'duration',\n",
              "       'actor_2_name', 'gross', 'actor_1_name', 'movie_title',\n",
              "       'num_voted_users', 'actor_3_name', 'plot_keywords', 'movie_imdb_link',\n",
              "       'num_user_for_reviews', 'language', 'country', 'content_rating',\n",
              "       'budget', 'title_year', 'imdb_score', 'aspect_ratio', 'Action',\n",
              "       'Adventure', 'Animation', 'Biography', 'Comedy', 'Crime', 'Drama',\n",
              "       'Family', 'Fantasy', 'History', 'Horror', 'Music', 'Musical', 'Mystery',\n",
              "       'Romance', 'Sci-Fi', 'Sport', 'Thriller', 'War', 'Western'],\n",
              "      dtype='object')"
            ]
          },
          "metadata": {
            "tags": []
          },
          "execution_count": 30
        }
      ]
    },
    {
      "metadata": {
        "id": "peqAoAGmMx0P",
        "colab_type": "text"
      },
      "cell_type": "markdown",
      "source": [
        "**Making datasets only made of genres data, for futher analysis:**"
      ]
    },
    {
      "metadata": {
        "id": "dbqUvJyUSTGC",
        "colab_type": "code",
        "outputId": "cb57d351-077d-45ee-a893-f42289409d73",
        "colab": {
          "base_uri": "https://localhost:8080/",
          "height": 86
        }
      },
      "cell_type": "code",
      "source": [
        "ncol = len(successful.columns)\n",
        "s_genres = successful[successful.columns[20:ncol]]\n",
        "s_genres.columns"
      ],
      "execution_count": 31,
      "outputs": [
        {
          "output_type": "execute_result",
          "data": {
            "text/plain": [
              "Index(['Action', 'Adventure', 'Animation', 'Biography', 'Comedy', 'Crime',\n",
              "       'Drama', 'Family', 'Fantasy', 'History', 'Horror', 'Music', 'Musical',\n",
              "       'Mystery', 'Romance', 'Sci-Fi', 'Sport', 'Thriller', 'War', 'Western'],\n",
              "      dtype='object')"
            ]
          },
          "metadata": {
            "tags": []
          },
          "execution_count": 31
        }
      ]
    },
    {
      "metadata": {
        "id": "iuCuAykoMzEK",
        "colab_type": "code",
        "outputId": "2c98c0a3-340d-41e7-8166-99ccdedb8127",
        "colab": {
          "base_uri": "https://localhost:8080/",
          "height": 86
        }
      },
      "cell_type": "code",
      "source": [
        "ncol = len(unsuccessful.columns)\n",
        "u_genres = unsuccessful[unsuccessful.columns[20:ncol]]\n",
        "u_genres.columns"
      ],
      "execution_count": 32,
      "outputs": [
        {
          "output_type": "execute_result",
          "data": {
            "text/plain": [
              "Index(['Action', 'Adventure', 'Animation', 'Biography', 'Comedy', 'Crime',\n",
              "       'Drama', 'Family', 'Fantasy', 'History', 'Horror', 'Music', 'Musical',\n",
              "       'Mystery', 'Romance', 'Sci-Fi', 'Sport', 'Thriller', 'War', 'Western'],\n",
              "      dtype='object')"
            ]
          },
          "metadata": {
            "tags": []
          },
          "execution_count": 32
        }
      ]
    },
    {
      "metadata": {
        "id": "9uvRCgGpuST-",
        "colab_type": "code",
        "outputId": "3d364260-05f6-4ec5-8dae-82c896add493",
        "colab": {
          "base_uri": "https://localhost:8080/",
          "height": 34
        }
      },
      "cell_type": "code",
      "source": [
        "successful.budget.unique().min()"
      ],
      "execution_count": 33,
      "outputs": [
        {
          "output_type": "execute_result",
          "data": {
            "text/plain": [
              "60000.0"
            ]
          },
          "metadata": {
            "tags": []
          },
          "execution_count": 33
        }
      ]
    },
    {
      "metadata": {
        "id": "XtAmV4Ufu1aG",
        "colab_type": "code",
        "outputId": "5c647ff5-72cd-4b51-9886-14b688123938",
        "colab": {
          "base_uri": "https://localhost:8080/",
          "height": 34
        }
      },
      "cell_type": "code",
      "source": [
        "successful.budget.unique().max()"
      ],
      "execution_count": 34,
      "outputs": [
        {
          "output_type": "execute_result",
          "data": {
            "text/plain": [
              "300000000.0"
            ]
          },
          "metadata": {
            "tags": []
          },
          "execution_count": 34
        }
      ]
    },
    {
      "metadata": {
        "id": "yVyVRGLVvE3r",
        "colab_type": "code",
        "outputId": "9bf1d33e-3739-4c88-f4d7-15ea2a9696a6",
        "colab": {
          "base_uri": "https://localhost:8080/",
          "height": 34
        }
      },
      "cell_type": "code",
      "source": [
        "unsuccessful.budget.unique().min()"
      ],
      "execution_count": 35,
      "outputs": [
        {
          "output_type": "execute_result",
          "data": {
            "text/plain": [
              "60000.0"
            ]
          },
          "metadata": {
            "tags": []
          },
          "execution_count": 35
        }
      ]
    },
    {
      "metadata": {
        "id": "Q97E3fxivLXN",
        "colab_type": "code",
        "outputId": "a7e3dcdf-2be2-4434-ceb9-0ee2a3ba755b",
        "colab": {
          "base_uri": "https://localhost:8080/",
          "height": 34
        }
      },
      "cell_type": "code",
      "source": [
        "unsuccessful.budget.unique().max()"
      ],
      "execution_count": 36,
      "outputs": [
        {
          "output_type": "execute_result",
          "data": {
            "text/plain": [
              "1000000000.0"
            ]
          },
          "metadata": {
            "tags": []
          },
          "execution_count": 36
        }
      ]
    },
    {
      "metadata": {
        "id": "VLE4e6cjIJ79",
        "colab_type": "text"
      },
      "cell_type": "markdown",
      "source": [
        "## Exploring the data through visualisations"
      ]
    },
    {
      "metadata": {
        "id": "CSePWdd3NBmL",
        "colab_type": "text"
      },
      "cell_type": "markdown",
      "source": [
        "### Comparing budgets of successful vs unsuccessful films:"
      ]
    },
    {
      "metadata": {
        "id": "J4NrQh7wIy92",
        "colab_type": "code",
        "outputId": "44876452-a8b2-4988-92e2-f7e806c5d9ae",
        "colab": {
          "base_uri": "https://localhost:8080/",
          "height": 349
        }
      },
      "cell_type": "code",
      "source": [
        "bdgt_analysis_s = successful[['budget', 'title_year']].groupby('title_year')\n",
        "fig, ax1 = plt.subplots(figsize=(10,5))\n",
        "ax1.plot(bdgt_analysis_s.title_year.first(), bdgt_analysis_s.budget.nunique(), \"g-o\")\n",
        "ax1.grid(None)\n",
        "ax1.set_ylim(0,60)\n",
        "\n",
        "bdgt_analysis_u = unsuccessful[['budget', 'title_year']].groupby('title_year')\n",
        "ax2 = ax1.twinx()\n",
        "ax2.plot(bdgt_analysis_u.title_year.first(), bdgt_analysis_u.budget.count(), \"r-o\")\n",
        "ax2.grid(None)\n",
        "ax2.set_ylim(0,60)\n",
        "\n",
        "\n",
        "# green - successful, red - unsuccessful\n",
        "\n",
        "ax1.set_xlabel('Years (in decades)')\n",
        "ax1.set_ylabel('Budget of successful films'); ax2.set_ylabel('Budget of unsuccessful films')\n",
        "plt.title('Fluctuation of film budget over the years')\n",
        "plt.show()"
      ],
      "execution_count": 37,
      "outputs": [
        {
          "output_type": "display_data",
          "data": {
            "image/png": "[encoded data removed]",
            "text/plain": [
              "<matplotlib.figure.Figure at 0x7f7d642835c0>"
            ]
          },
          "metadata": {
            "tags": []
          }
        }
      ]
    },
    {
      "metadata": {
        "id": "zeJK1QV8NKH0",
        "colab_type": "text"
      },
      "cell_type": "markdown",
      "source": [
        "### Exploring duration/score, gross/score and duration/gross"
      ]
    },
    {
      "metadata": {
        "id": "cu9oKyYJxUQM",
        "colab_type": "code",
        "colab": {
          "base_uri": "https://localhost:8080/",
          "height": 378
        },
        "outputId": "8472ab0b-bc15-4da0-93b3-0f16d6fc064b"
      },
      "cell_type": "code",
      "source": [
        "plt.scatter(\n",
        "    np.log(successful['duration']),\n",
        "    successful['imdb_score'],\n",
        "    color='gold')\n",
        "plt.scatter(\n",
        "    np.log(unsuccessful['duration']),\n",
        "    unsuccessful['imdb_score'],\n",
        "    color='blue')\n",
        "\n",
        "plt.xlabel('duration of the film')\n",
        "plt.ylabel('IMDB score')"
      ],
      "execution_count": 38,
      "outputs": [
        {
          "output_type": "execute_result",
          "data": {
            "text/plain": [
              "Text(0,0.5,'IMDB score')"
            ]
          },
          "metadata": {
            "tags": []
          },
          "execution_count": 38
        },
        {
          "output_type": "display_data",
          "data": {
            "image/png": "[encoded data removed]",
            "text/plain": [
              "<matplotlib.figure.Figure at 0x7f7d642812e8>"
            ]
          },
          "metadata": {
            "tags": []
          }
        }
      ]
    },
    {
      "metadata": {
        "id": "-8MWrE8T9D-S",
        "colab_type": "code",
        "colab": {
          "base_uri": "https://localhost:8080/",
          "height": 378
        },
        "outputId": "6f663a1f-857d-476d-db30-85906fbabb4a"
      },
      "cell_type": "code",
      "source": [
        "plt.scatter(\n",
        "    np.log(successful['gross']),\n",
        "    successful['imdb_score'],\n",
        "    color='gold')\n",
        "plt.scatter(\n",
        "    np.log(unsuccessful['gross']),\n",
        "    unsuccessful['imdb_score'],\n",
        "    color='blue')\n",
        "\n",
        "plt.xlabel('film gross')\n",
        "plt.ylabel('IMDB score')"
      ],
      "execution_count": 39,
      "outputs": [
        {
          "output_type": "execute_result",
          "data": {
            "text/plain": [
              "Text(0,0.5,'IMDB score')"
            ]
          },
          "metadata": {
            "tags": []
          },
          "execution_count": 39
        },
        {
          "output_type": "display_data",
          "data": {
            "image/png": "[encoded data removed]",
            "text/plain": [
              "<matplotlib.figure.Figure at 0x7f7d68391358>"
            ]
          },
          "metadata": {
            "tags": []
          }
        }
      ]
    },
    {
      "metadata": {
        "id": "qdz87ft39W6K",
        "colab_type": "code",
        "colab": {
          "base_uri": "https://localhost:8080/",
          "height": 389
        },
        "outputId": "58d1ac6a-8cd6-4761-920f-8773d97a42b4"
      },
      "cell_type": "code",
      "source": [
        "plt.scatter(\n",
        "    np.log(successful['duration']),\n",
        "    successful['gross'],\n",
        "    color='gold')\n",
        "plt.scatter(\n",
        "    np.log(unsuccessful['duration']),\n",
        "    unsuccessful['gross'],\n",
        "    color='blue')\n",
        "\n",
        "plt.xlabel('film duration')\n",
        "plt.ylabel('film gross')"
      ],
      "execution_count": 40,
      "outputs": [
        {
          "output_type": "execute_result",
          "data": {
            "text/plain": [
              "Text(0,0.5,'film gross')"
            ]
          },
          "metadata": {
            "tags": []
          },
          "execution_count": 40
        },
        {
          "output_type": "display_data",
          "data": {
            "image/png": "[encoded data removed]",
            "text/plain": [
              "<matplotlib.figure.Figure at 0x7f7d683e8898>"
            ]
          },
          "metadata": {
            "tags": []
          }
        }
      ]
    },
    {
      "metadata": {
        "id": "LpSQTfxkNZa4",
        "colab_type": "text"
      },
      "cell_type": "markdown",
      "source": [
        "### Exploring genres data points"
      ]
    },
    {
      "metadata": {
        "id": "kAgrS2yVzUS6",
        "colab_type": "code",
        "outputId": "b90133c9-2cf9-4fcb-fa97-b31d098b1c23",
        "colab": {
          "base_uri": "https://localhost:8080/",
          "height": 364
        }
      },
      "cell_type": "code",
      "source": [
        "indiv_genres = list(s_genres.columns.values)\n",
        "s_genr_numb = []\n",
        "for genre in indiv_genres:\n",
        "  s_genr_numb.append(s_genres[genre].astype(bool).sum(axis=0))\n",
        "s_dictionary = dict(zip(indiv_genres, s_genr_numb))\n",
        "s_sort_dict = sorted(s_dictionary.items() , key=lambda t : t[1] , reverse=True)\n",
        "for k,v in s_sort_dict:\n",
        "  print(k,v)"
      ],
      "execution_count": 41,
      "outputs": [
        {
          "output_type": "stream",
          "text": [
            "Drama 485\n",
            "Comedy 321\n",
            "Thriller 292\n",
            "Action 266\n",
            "Adventure 257\n",
            "Romance 194\n",
            "Crime 174\n",
            "Fantasy 150\n",
            "Sci-Fi 144\n",
            "Family 142\n",
            "Mystery 102\n",
            "Animation 78\n",
            "Biography 76\n",
            "Horror 64\n",
            "Sport 45\n",
            "History 36\n",
            "War 36\n",
            "Music 34\n",
            "Musical 25\n",
            "Western 18\n"
          ],
          "name": "stdout"
        }
      ]
    },
    {
      "metadata": {
        "id": "En_gsMB2guN8",
        "colab_type": "code",
        "outputId": "a41faca5-9dfd-470d-bd07-ea19657cafc7",
        "colab": {
          "base_uri": "https://localhost:8080/",
          "height": 364
        }
      },
      "cell_type": "code",
      "source": [
        "u_genr_numb = []\n",
        "for genre in indiv_genres:\n",
        "  u_genr_numb.append(u_genres[genre].astype(bool).sum(axis=0))\n",
        "u_dictionary = dict(zip(indiv_genres, u_genr_numb))\n",
        "u_sort_dict = sorted(u_dictionary.items() , key=lambda t : t[1] , reverse=True)\n",
        "for k,v in u_sort_dict:\n",
        "  print(k,v)"
      ],
      "execution_count": 42,
      "outputs": [
        {
          "output_type": "stream",
          "text": [
            "Comedy 407\n",
            "Drama 351\n",
            "Action 319\n",
            "Thriller 314\n",
            "Adventure 200\n",
            "Romance 196\n",
            "Crime 183\n",
            "Sci-Fi 160\n",
            "Fantasy 152\n",
            "Family 110\n",
            "Horror 100\n",
            "Mystery 87\n",
            "Animation 34\n",
            "War 30\n",
            "Music 29\n",
            "Sport 29\n",
            "Musical 25\n",
            "Biography 19\n",
            "History 19\n",
            "Western 16\n"
          ],
          "name": "stdout"
        }
      ]
    },
    {
      "metadata": {
        "id": "e6q5hUYmNokq",
        "colab_type": "text"
      },
      "cell_type": "markdown",
      "source": [
        "**Based on the number of films:**"
      ]
    },
    {
      "metadata": {
        "id": "ojuLzaujgxE1",
        "colab_type": "code",
        "outputId": "3cf2dbe8-a215-497f-ca88-7558c401a72b",
        "colab": {
          "base_uri": "https://localhost:8080/",
          "height": 414
        }
      },
      "cell_type": "code",
      "source": [
        "s_means = s_dictionary.values()\n",
        "u_means = u_dictionary.values()\n",
        "\n",
        "ind = np.arange(len(s_means))\n",
        "width = 0.35\n",
        "\n",
        "fig, ax = plt.subplots()\n",
        "rects1 = ax.bar(ind - width/2, s_means, width, color='SkyBlue', label='Successful')\n",
        "rects2 = ax.bar(ind + width/2, u_means, width, color='IndianRed', label='Unsuccessful')\n",
        "\n",
        "ax.set_ylabel('number of films')\n",
        "ax.set_title('successful v unsuccessful')\n",
        "ax.set_xticks(ind)\n",
        "ax.set_xticklabels(s_dictionary.keys(), rotation='vertical')\n",
        "ax.legend()"
      ],
      "execution_count": 43,
      "outputs": [
        {
          "output_type": "execute_result",
          "data": {
            "text/plain": [
              "<matplotlib.legend.Legend at 0x7f7d62e3a518>"
            ]
          },
          "metadata": {
            "tags": []
          },
          "execution_count": 43
        },
        {
          "output_type": "display_data",
          "data": {
            "image/png": "[encoded data removed]",
            "text/plain": [
              "<matplotlib.figure.Figure at 0x7f7d62f52ef0>"
            ]
          },
          "metadata": {
            "tags": []
          }
        }
      ]
    },
    {
      "metadata": {
        "id": "W2sqMd8BN2lr",
        "colab_type": "text"
      },
      "cell_type": "markdown",
      "source": [
        "**Based on percentage of certain genres in successful vs unsuccessful films:**"
      ]
    },
    {
      "metadata": {
        "id": "swZI88bqozIM",
        "colab_type": "code",
        "colab": {}
      },
      "cell_type": "code",
      "source": [
        "def percentage(part, whole):\n",
        "  return 100 * float(part)/float(whole)"
      ],
      "execution_count": 0,
      "outputs": []
    },
    {
      "metadata": {
        "id": "OCu5VPyc3_iH",
        "colab_type": "code",
        "colab": {}
      },
      "cell_type": "code",
      "source": [
        "s_percent = []\n",
        "u_percent = []\n",
        "for i in range(len(s_genr_numb)):\n",
        "  sum = s_genr_numb[i] + u_genr_numb[i]\n",
        "  s_percent.append(percentage(s_genr_numb[i], sum))\n",
        "  u_percent.append(percentage(u_genr_numb[i], sum))"
      ],
      "execution_count": 0,
      "outputs": []
    },
    {
      "metadata": {
        "id": "x67I6itZ1i3h",
        "colab_type": "code",
        "outputId": "de5661cd-4662-4342-ff03-3b8890b0213b",
        "colab": {
          "base_uri": "https://localhost:8080/",
          "height": 414
        }
      },
      "cell_type": "code",
      "source": [
        "ind = np.arange(len(s_percent))\n",
        "width = 0.35\n",
        "\n",
        "fig, ax = plt.subplots()\n",
        "rects1 = ax.bar(ind - width/2, s_percent, width, color='SkyBlue', label='Successful')\n",
        "rects2 = ax.bar(ind + width/2, u_percent, width, color='IndianRed', label='Unsuccessful')\n",
        "\n",
        "ax.set_ylabel('percentage of films')\n",
        "ax.set_title('successful v unsuccessful')\n",
        "ax.set_xticks(ind)\n",
        "ax.set_xticklabels(s_dictionary.keys(), rotation='vertical')\n",
        "ax.set_ylim(0,100)\n",
        "ax.legend()"
      ],
      "execution_count": 46,
      "outputs": [
        {
          "output_type": "execute_result",
          "data": {
            "text/plain": [
              "<matplotlib.legend.Legend at 0x7f7d62d21748>"
            ]
          },
          "metadata": {
            "tags": []
          },
          "execution_count": 46
        },
        {
          "output_type": "display_data",
          "data": {
            "image/png": "[encoded data removed]",
            "text/plain": [
              "<matplotlib.figure.Figure at 0x7f7d62e40978>"
            ]
          },
          "metadata": {
            "tags": []
          }
        }
      ]
    },
    {
      "metadata": {
        "id": "CtYEnWJ_IX8w",
        "colab_type": "text"
      },
      "cell_type": "markdown",
      "source": [
        "## Analysing movie director data"
      ]
    },
    {
      "metadata": {
        "id": "AoSD-GDa1yO0",
        "colab_type": "code",
        "colab": {
          "base_uri": "https://localhost:8080/",
          "height": 139
        },
        "outputId": "9c0de5ed-16e4-425b-91af-9bf2eec3e20f"
      },
      "cell_type": "code",
      "source": [
        "# which director has the most films\n",
        "metadata.groupby('director_name')['movie_title'].count().sort_values(ascending=False).head()"
      ],
      "execution_count": 47,
      "outputs": [
        {
          "output_type": "execute_result",
          "data": {
            "text/plain": [
              "director_name\n",
              "Steven Spielberg    26\n",
              "Woody Allen         22\n",
              "Clint Eastwood      20\n",
              "Martin Scorsese     18\n",
              "Ridley Scott        17\n",
              "Name: movie_title, dtype: int64"
            ]
          },
          "metadata": {
            "tags": []
          },
          "execution_count": 47
        }
      ]
    },
    {
      "metadata": {
        "id": "83Ofedpz_zHd",
        "colab_type": "code",
        "colab": {
          "base_uri": "https://localhost:8080/",
          "height": 139
        },
        "outputId": "4b980798-8668-4995-a761-ba27516ffb23"
      },
      "cell_type": "code",
      "source": [
        "# which director has the most films that are SUCCESSFUL according to this research\n",
        "successful.groupby('director_name')['movie_title'].count().sort_values(ascending=False).head()"
      ],
      "execution_count": 48,
      "outputs": [
        {
          "output_type": "execute_result",
          "data": {
            "text/plain": [
              "director_name\n",
              "Steven Spielberg     20\n",
              "Clint Eastwood       11\n",
              "Peter Jackson         9\n",
              "Steven Soderbergh     9\n",
              "Robert Zemeckis       9\n",
              "Name: movie_title, dtype: int64"
            ]
          },
          "metadata": {
            "tags": []
          },
          "execution_count": 48
        }
      ]
    },
    {
      "metadata": {
        "id": "Uo_AdUdw_3gM",
        "colab_type": "code",
        "colab": {
          "base_uri": "https://localhost:8080/",
          "height": 139
        },
        "outputId": "d0c97a93-62e8-465f-8ca9-b0089e093c39"
      },
      "cell_type": "code",
      "source": [
        "# directors based on their average IMDB scores for all movies\n",
        "metadata.groupby('director_name')['imdb_score'].mean().sort_values(ascending=False).head()"
      ],
      "execution_count": 49,
      "outputs": [
        {
          "output_type": "execute_result",
          "data": {
            "text/plain": [
              "director_name\n",
              "Sadyk Sher-Niyaz    8.7\n",
              "Mitchell Altieri    8.7\n",
              "Mike Mayhall        8.6\n",
              "Raja Menon          8.5\n",
              "Damien Chazelle     8.5\n",
              "Name: imdb_score, dtype: float64"
            ]
          },
          "metadata": {
            "tags": []
          },
          "execution_count": 49
        }
      ]
    },
    {
      "metadata": {
        "id": "aUkUS_QVAGO7",
        "colab_type": "code",
        "colab": {
          "base_uri": "https://localhost:8080/",
          "height": 139
        },
        "outputId": "418587e2-e9cb-4c86-9376-f5db00ca5a0a"
      },
      "cell_type": "code",
      "source": [
        "# directors based on their average IMDB scores for successful movies\n",
        "successful.groupby('director_name')['imdb_score'].mean().sort_values(ascending=False).head()"
      ],
      "execution_count": 50,
      "outputs": [
        {
          "output_type": "execute_result",
          "data": {
            "text/plain": [
              "director_name\n",
              "Irvin Kershner       8.800000\n",
              "Frank Darabont       8.500000\n",
              "Roger Allers         8.500000\n",
              "Milos Forman         8.500000\n",
              "Christopher Nolan    8.414286\n",
              "Name: imdb_score, dtype: float64"
            ]
          },
          "metadata": {
            "tags": []
          },
          "execution_count": 50
        }
      ]
    },
    {
      "metadata": {
        "id": "WNNag_ZoAKR1",
        "colab_type": "code",
        "colab": {
          "base_uri": "https://localhost:8080/",
          "height": 139
        },
        "outputId": "f93ca371-51f0-46f4-979c-1991aaf53dc5"
      },
      "cell_type": "code",
      "source": [
        "# directors based on their maximum IMDB scores for all movies\n",
        "metadata.groupby('director_name')['imdb_score'].max().sort_values(ascending=False).head()"
      ],
      "execution_count": 51,
      "outputs": [
        {
          "output_type": "execute_result",
          "data": {
            "text/plain": [
              "director_name\n",
              "Frank Darabont          9.3\n",
              "Francis Ford Coppola    9.2\n",
              "John Stockwell          9.1\n",
              "Christopher Nolan       9.0\n",
              "Peter Jackson           8.9\n",
              "Name: imdb_score, dtype: float64"
            ]
          },
          "metadata": {
            "tags": []
          },
          "execution_count": 51
        }
      ]
    },
    {
      "metadata": {
        "id": "0rl2zU71AV4D",
        "colab_type": "code",
        "colab": {
          "base_uri": "https://localhost:8080/",
          "height": 139
        },
        "outputId": "58d1b65a-8be7-44b4-9a01-9c26cc010fa3"
      },
      "cell_type": "code",
      "source": [
        "# directors based on their maximum IMDB scores for successful movies\n",
        "successful.groupby('director_name')['imdb_score'].max().sort_values(ascending=False).head(5)"
      ],
      "execution_count": 52,
      "outputs": [
        {
          "output_type": "execute_result",
          "data": {
            "text/plain": [
              "director_name\n",
              "Francis Ford Coppola    9.2\n",
              "Christopher Nolan       9.0\n",
              "Steven Spielberg        8.9\n",
              "Quentin Tarantino       8.9\n",
              "Peter Jackson           8.9\n",
              "Name: imdb_score, dtype: float64"
            ]
          },
          "metadata": {
            "tags": []
          },
          "execution_count": 52
        }
      ]
    },
    {
      "metadata": {
        "id": "6YvQza1ZAb1z",
        "colab_type": "code",
        "colab": {}
      },
      "cell_type": "code",
      "source": [
        ""
      ],
      "execution_count": 0,
      "outputs": []
    }
  ]
}